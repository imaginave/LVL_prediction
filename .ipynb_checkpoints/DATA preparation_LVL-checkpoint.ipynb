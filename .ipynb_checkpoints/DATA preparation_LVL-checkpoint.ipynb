{
 "cells": [
  {
   "cell_type": "code",
   "execution_count": 22,
   "metadata": {},
   "outputs": [],
   "source": [
    "import pandas as pd\n",
    "import numpy as np\n",
    "%matplotlib inline\n",
    "\n",
    "from sklearn.metrics import mean_squared_log_error\n",
    "from sklearn.ensemble import RandomForestRegressor\n",
    "from lightgbm import LGBMRegressor"
   ]
  },
  {
   "cell_type": "code",
   "execution_count": 41,
   "metadata": {},
   "outputs": [
    {
     "name": "stdout",
     "output_type": "stream",
     "text": [
      "Wall time: 482 ms\n"
     ]
    }
   ],
   "source": [
    "%%time\n",
    "data = pd.read_csv('DATA\\c2-9.csv',delimiter=\";\",decimal=\",\")\n"
   ]
  },
  {
   "cell_type": "code",
   "execution_count": 30,
   "metadata": {
    "scrolled": true
   },
   "outputs": [
    {
     "data": {
      "text/html": [
       "<div>\n",
       "<style scoped>\n",
       "    .dataframe tbody tr th:only-of-type {\n",
       "        vertical-align: middle;\n",
       "    }\n",
       "\n",
       "    .dataframe tbody tr th {\n",
       "        vertical-align: top;\n",
       "    }\n",
       "\n",
       "    .dataframe thead th {\n",
       "        text-align: right;\n",
       "    }\n",
       "</style>\n",
       "<table border=\"1\" class=\"dataframe\">\n",
       "  <thead>\n",
       "    <tr style=\"text-align: right;\">\n",
       "      <th></th>\n",
       "      <th>NUM</th>\n",
       "      <th>KEYFIELD</th>\n",
       "      <th>CAMPAIGN</th>\n",
       "      <th>COORDLEVEL</th>\n",
       "      <th>ROUND(AWARDSALES,2)</th>\n",
       "      <th>LOA</th>\n",
       "      <th>STAFF</th>\n",
       "      <th>PREVSTAFF</th>\n",
       "      <th>ROUND(RETURNSRUR,2)</th>\n",
       "    </tr>\n",
       "  </thead>\n",
       "  <tbody>\n",
       "    <tr>\n",
       "      <th>0</th>\n",
       "      <td>1</td>\n",
       "      <td>C0100006</td>\n",
       "      <td>N18-02</td>\n",
       "      <td>3</td>\n",
       "      <td>907.52</td>\n",
       "      <td>110</td>\n",
       "      <td>24</td>\n",
       "      <td>29</td>\n",
       "      <td>0.0</td>\n",
       "    </tr>\n",
       "    <tr>\n",
       "      <th>1</th>\n",
       "      <td>2</td>\n",
       "      <td>C0100048</td>\n",
       "      <td>N18-02</td>\n",
       "      <td>4</td>\n",
       "      <td>1275.44</td>\n",
       "      <td>110</td>\n",
       "      <td>20</td>\n",
       "      <td>22</td>\n",
       "      <td>-1689.0</td>\n",
       "    </tr>\n",
       "    <tr>\n",
       "      <th>2</th>\n",
       "      <td>3</td>\n",
       "      <td>C0100052</td>\n",
       "      <td>N18-02</td>\n",
       "      <td>5</td>\n",
       "      <td>1350.05</td>\n",
       "      <td>110</td>\n",
       "      <td>28</td>\n",
       "      <td>28</td>\n",
       "      <td>0.0</td>\n",
       "    </tr>\n",
       "    <tr>\n",
       "      <th>3</th>\n",
       "      <td>4</td>\n",
       "      <td>C0100074</td>\n",
       "      <td>N18-02</td>\n",
       "      <td>5</td>\n",
       "      <td>1742.68</td>\n",
       "      <td>110</td>\n",
       "      <td>39</td>\n",
       "      <td>44</td>\n",
       "      <td>0.0</td>\n",
       "    </tr>\n",
       "    <tr>\n",
       "      <th>4</th>\n",
       "      <td>5</td>\n",
       "      <td>C0100082</td>\n",
       "      <td>N18-02</td>\n",
       "      <td>4</td>\n",
       "      <td>1027.26</td>\n",
       "      <td>110</td>\n",
       "      <td>25</td>\n",
       "      <td>28</td>\n",
       "      <td>0.0</td>\n",
       "    </tr>\n",
       "  </tbody>\n",
       "</table>\n",
       "</div>"
      ],
      "text/plain": [
       "   NUM  KEYFIELD CAMPAIGN  COORDLEVEL  ROUND(AWARDSALES,2)  LOA  STAFF  \\\n",
       "0    1  C0100006   N18-02           3               907.52  110     24   \n",
       "1    2  C0100048   N18-02           4              1275.44  110     20   \n",
       "2    3  C0100052   N18-02           5              1350.05  110     28   \n",
       "3    4  C0100074   N18-02           5              1742.68  110     39   \n",
       "4    5  C0100082   N18-02           4              1027.26  110     25   \n",
       "\n",
       "   PREVSTAFF  ROUND(RETURNSRUR,2)  \n",
       "0         29                  0.0  \n",
       "1         22              -1689.0  \n",
       "2         28                  0.0  \n",
       "3         44                  0.0  \n",
       "4         28                  0.0  "
      ]
     },
     "execution_count": 30,
     "metadata": {},
     "output_type": "execute_result"
    }
   ],
   "source": [
    "data.head()"
   ]
  },
  {
   "cell_type": "code",
   "execution_count": 31,
   "metadata": {},
   "outputs": [
    {
     "name": "stdout",
     "output_type": "stream",
     "text": [
      "<class 'pandas.core.frame.DataFrame'>\n",
      "RangeIndex: 445459 entries, 0 to 445458\n",
      "Data columns (total 9 columns):\n",
      "NUM                    445459 non-null int64\n",
      "KEYFIELD               445459 non-null object\n",
      "CAMPAIGN               445459 non-null object\n",
      "COORDLEVEL             445459 non-null int64\n",
      "ROUND(AWARDSALES,2)    445459 non-null float64\n",
      "LOA                    445459 non-null int64\n",
      "STAFF                  445459 non-null int64\n",
      "PREVSTAFF              445459 non-null int64\n",
      "ROUND(RETURNSRUR,2)    445459 non-null float64\n",
      "dtypes: float64(2), int64(5), object(2)\n",
      "memory usage: 30.6+ MB\n"
     ]
    }
   ],
   "source": [
    "data.info()"
   ]
  },
  {
   "cell_type": "code",
   "execution_count": 32,
   "metadata": {
    "scrolled": true
   },
   "outputs": [],
   "source": [
    "data = data.assign(ID=(data['KEYFIELD']).astype('category').cat.codes)"
   ]
  },
  {
   "cell_type": "code",
   "execution_count": 33,
   "metadata": {},
   "outputs": [],
   "source": [
    "data = data.assign(CAMP=(data['CAMPAIGN']).astype('category').cat.codes)"
   ]
  },
  {
   "cell_type": "code",
   "execution_count": 35,
   "metadata": {},
   "outputs": [],
   "source": [
    "data.drop(['NUM','KEYFIELD','CAMPAIGN'], axis=1,inplace = True)"
   ]
  },
  {
   "cell_type": "code",
   "execution_count": 38,
   "metadata": {},
   "outputs": [],
   "source": [
    "data.columns = ['LEVEL', 'AWARD', 'LOA', 'STAFF', 'PREVSTAFF','RETURNS','ID','CAMP']"
   ]
  },
  {
   "cell_type": "code",
   "execution_count": 39,
   "metadata": {},
   "outputs": [
    {
     "data": {
      "text/html": [
       "<div>\n",
       "<style scoped>\n",
       "    .dataframe tbody tr th:only-of-type {\n",
       "        vertical-align: middle;\n",
       "    }\n",
       "\n",
       "    .dataframe tbody tr th {\n",
       "        vertical-align: top;\n",
       "    }\n",
       "\n",
       "    .dataframe thead th {\n",
       "        text-align: right;\n",
       "    }\n",
       "</style>\n",
       "<table border=\"1\" class=\"dataframe\">\n",
       "  <thead>\n",
       "    <tr style=\"text-align: right;\">\n",
       "      <th></th>\n",
       "      <th>LEVEL</th>\n",
       "      <th>AWARD</th>\n",
       "      <th>LOA</th>\n",
       "      <th>STAFF</th>\n",
       "      <th>PREVSTAFF</th>\n",
       "      <th>RETURNS</th>\n",
       "      <th>ID</th>\n",
       "      <th>CAMP</th>\n",
       "    </tr>\n",
       "  </thead>\n",
       "  <tbody>\n",
       "    <tr>\n",
       "      <th>0</th>\n",
       "      <td>3</td>\n",
       "      <td>907.52</td>\n",
       "      <td>110</td>\n",
       "      <td>24</td>\n",
       "      <td>29</td>\n",
       "      <td>0.0</td>\n",
       "      <td>392</td>\n",
       "      <td>0</td>\n",
       "    </tr>\n",
       "    <tr>\n",
       "      <th>1</th>\n",
       "      <td>4</td>\n",
       "      <td>1275.44</td>\n",
       "      <td>110</td>\n",
       "      <td>20</td>\n",
       "      <td>22</td>\n",
       "      <td>-1689.0</td>\n",
       "      <td>393</td>\n",
       "      <td>0</td>\n",
       "    </tr>\n",
       "    <tr>\n",
       "      <th>2</th>\n",
       "      <td>5</td>\n",
       "      <td>1350.05</td>\n",
       "      <td>110</td>\n",
       "      <td>28</td>\n",
       "      <td>28</td>\n",
       "      <td>0.0</td>\n",
       "      <td>394</td>\n",
       "      <td>0</td>\n",
       "    </tr>\n",
       "    <tr>\n",
       "      <th>3</th>\n",
       "      <td>5</td>\n",
       "      <td>1742.68</td>\n",
       "      <td>110</td>\n",
       "      <td>39</td>\n",
       "      <td>44</td>\n",
       "      <td>0.0</td>\n",
       "      <td>395</td>\n",
       "      <td>0</td>\n",
       "    </tr>\n",
       "    <tr>\n",
       "      <th>4</th>\n",
       "      <td>4</td>\n",
       "      <td>1027.26</td>\n",
       "      <td>110</td>\n",
       "      <td>25</td>\n",
       "      <td>28</td>\n",
       "      <td>0.0</td>\n",
       "      <td>396</td>\n",
       "      <td>0</td>\n",
       "    </tr>\n",
       "  </tbody>\n",
       "</table>\n",
       "</div>"
      ],
      "text/plain": [
       "   LEVEL    AWARD  LOA  STAFF  PREVSTAFF  RETURNS   ID  CAMP\n",
       "0      3   907.52  110     24         29      0.0  392     0\n",
       "1      4  1275.44  110     20         22  -1689.0  393     0\n",
       "2      5  1350.05  110     28         28      0.0  394     0\n",
       "3      5  1742.68  110     39         44      0.0  395     0\n",
       "4      4  1027.26  110     25         28      0.0  396     0"
      ]
     },
     "execution_count": 39,
     "metadata": {},
     "output_type": "execute_result"
    }
   ],
   "source": [
    "data.head()"
   ]
  },
  {
   "cell_type": "code",
   "execution_count": 40,
   "metadata": {},
   "outputs": [],
   "source": [
    "data.to_csv('DATA/c2_9_prep.csv', encoding='utf-8')"
   ]
  },
  {
   "cell_type": "code",
   "execution_count": null,
   "metadata": {},
   "outputs": [],
   "source": []
  }
 ],
 "metadata": {
  "kernelspec": {
   "display_name": "Python 3",
   "language": "python",
   "name": "python3"
  },
  "language_info": {
   "codemirror_mode": {
    "name": "ipython",
    "version": 3
   },
   "file_extension": ".py",
   "mimetype": "text/x-python",
   "name": "python",
   "nbconvert_exporter": "python",
   "pygments_lexer": "ipython3",
   "version": "3.6.4"
  }
 },
 "nbformat": 4,
 "nbformat_minor": 2
}
