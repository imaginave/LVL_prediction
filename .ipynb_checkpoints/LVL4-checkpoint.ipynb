{
 "cells": [
  {
   "cell_type": "code",
   "execution_count": 116,
   "metadata": {},
   "outputs": [],
   "source": [
    "import pandas as pd\n",
    "import numpy as np\n",
    "import matplotlib.pyplot as plt\n",
    "from matplotlib import pyplot\n",
    "import seaborn as sns\n",
    "\n",
    "%matplotlib inline\n",
    "from sklearn.metrics import mean_squared_log_error\n",
    "from sklearn.metrics import accuracy_score\n",
    "from sklearn.ensemble import RandomForestRegressor\n",
    "from sklearn.preprocessing import normalize\n",
    "\n",
    "from lightgbm import LGBMClassifier\n",
    "import warnings\n",
    "warnings.filterwarnings('ignore')"
   ]
  },
  {
   "cell_type": "code",
   "execution_count": 117,
   "metadata": {},
   "outputs": [
    {
     "name": "stdout",
     "output_type": "stream",
     "text": [
      "Wall time: 23.2 s\n"
     ]
    }
   ],
   "source": [
    "%%time\n",
    "data = pd.read_csv('DATA/16-18pivot_prep.csv')\n",
    "data.drop(['Unnamed: 0'], axis=1,inplace = True)\n",
    "data = data.dropna()#drop fired stuff to compensate disproportion of classes\n"
   ]
  },
  {
   "cell_type": "code",
   "execution_count": 118,
   "metadata": {
    "scrolled": true
   },
   "outputs": [
    {
     "data": {
      "text/html": [
       "<div>\n",
       "<style scoped>\n",
       "    .dataframe tbody tr th:only-of-type {\n",
       "        vertical-align: middle;\n",
       "    }\n",
       "\n",
       "    .dataframe tbody tr th {\n",
       "        vertical-align: top;\n",
       "    }\n",
       "\n",
       "    .dataframe thead th {\n",
       "        text-align: right;\n",
       "    }\n",
       "</style>\n",
       "<table border=\"1\" class=\"dataframe\">\n",
       "  <thead>\n",
       "    <tr style=\"text-align: right;\">\n",
       "      <th></th>\n",
       "      <th>ACC</th>\n",
       "      <th>LVL_0</th>\n",
       "      <th>LVL_1</th>\n",
       "      <th>LVL_2</th>\n",
       "      <th>LVL_3</th>\n",
       "      <th>LVL_4</th>\n",
       "      <th>LVL_5</th>\n",
       "      <th>LVL_6</th>\n",
       "      <th>LVL_7</th>\n",
       "      <th>LVL_8</th>\n",
       "      <th>...</th>\n",
       "      <th>DL_T19_35</th>\n",
       "      <th>DL_T19_36</th>\n",
       "      <th>DL_T19_37</th>\n",
       "      <th>DL_T19_38</th>\n",
       "      <th>DL_T19_39</th>\n",
       "      <th>DL_T19_40</th>\n",
       "      <th>DL_T19_41</th>\n",
       "      <th>DL_T19_42</th>\n",
       "      <th>DL_T19_43</th>\n",
       "      <th>DL_T19_44</th>\n",
       "    </tr>\n",
       "  </thead>\n",
       "  <tbody>\n",
       "    <tr>\n",
       "      <th>0</th>\n",
       "      <td>C0100006</td>\n",
       "      <td>2.0</td>\n",
       "      <td>2.0</td>\n",
       "      <td>2.0</td>\n",
       "      <td>2.0</td>\n",
       "      <td>2.0</td>\n",
       "      <td>2.0</td>\n",
       "      <td>2.0</td>\n",
       "      <td>2.0</td>\n",
       "      <td>2.0</td>\n",
       "      <td>...</td>\n",
       "      <td>0.0</td>\n",
       "      <td>0.0</td>\n",
       "      <td>0.0</td>\n",
       "      <td>0.0</td>\n",
       "      <td>0.0</td>\n",
       "      <td>0.0</td>\n",
       "      <td>0.0</td>\n",
       "      <td>0.0</td>\n",
       "      <td>0.0</td>\n",
       "      <td>0.0</td>\n",
       "    </tr>\n",
       "    <tr>\n",
       "      <th>3</th>\n",
       "      <td>C0100052</td>\n",
       "      <td>3.0</td>\n",
       "      <td>3.0</td>\n",
       "      <td>3.0</td>\n",
       "      <td>1.0</td>\n",
       "      <td>1.0</td>\n",
       "      <td>3.0</td>\n",
       "      <td>2.0</td>\n",
       "      <td>2.0</td>\n",
       "      <td>3.0</td>\n",
       "      <td>...</td>\n",
       "      <td>0.0</td>\n",
       "      <td>0.0</td>\n",
       "      <td>0.0</td>\n",
       "      <td>0.0</td>\n",
       "      <td>0.0</td>\n",
       "      <td>0.0</td>\n",
       "      <td>0.0</td>\n",
       "      <td>0.0</td>\n",
       "      <td>0.0</td>\n",
       "      <td>0.0</td>\n",
       "    </tr>\n",
       "    <tr>\n",
       "      <th>5</th>\n",
       "      <td>C0100074</td>\n",
       "      <td>3.0</td>\n",
       "      <td>3.0</td>\n",
       "      <td>3.0</td>\n",
       "      <td>3.0</td>\n",
       "      <td>2.0</td>\n",
       "      <td>3.0</td>\n",
       "      <td>2.0</td>\n",
       "      <td>3.0</td>\n",
       "      <td>3.0</td>\n",
       "      <td>...</td>\n",
       "      <td>0.0</td>\n",
       "      <td>0.0</td>\n",
       "      <td>0.0</td>\n",
       "      <td>0.0</td>\n",
       "      <td>0.0</td>\n",
       "      <td>0.0</td>\n",
       "      <td>0.0</td>\n",
       "      <td>0.0</td>\n",
       "      <td>0.0</td>\n",
       "      <td>0.0</td>\n",
       "    </tr>\n",
       "  </tbody>\n",
       "</table>\n",
       "<p>3 rows × 1306 columns</p>\n",
       "</div>"
      ],
      "text/plain": [
       "        ACC  LVL_0  LVL_1  LVL_2  LVL_3  LVL_4  LVL_5  LVL_6  LVL_7  LVL_8  \\\n",
       "0  C0100006    2.0    2.0    2.0    2.0    2.0    2.0    2.0    2.0    2.0   \n",
       "3  C0100052    3.0    3.0    3.0    1.0    1.0    3.0    2.0    2.0    3.0   \n",
       "5  C0100074    3.0    3.0    3.0    3.0    2.0    3.0    2.0    3.0    3.0   \n",
       "\n",
       "     ...      DL_T19_35  DL_T19_36  DL_T19_37  DL_T19_38  DL_T19_39  \\\n",
       "0    ...            0.0        0.0        0.0        0.0        0.0   \n",
       "3    ...            0.0        0.0        0.0        0.0        0.0   \n",
       "5    ...            0.0        0.0        0.0        0.0        0.0   \n",
       "\n",
       "   DL_T19_40  DL_T19_41  DL_T19_42  DL_T19_43  DL_T19_44  \n",
       "0        0.0        0.0        0.0        0.0        0.0  \n",
       "3        0.0        0.0        0.0        0.0        0.0  \n",
       "5        0.0        0.0        0.0        0.0        0.0  \n",
       "\n",
       "[3 rows x 1306 columns]"
      ]
     },
     "execution_count": 118,
     "metadata": {},
     "output_type": "execute_result"
    }
   ],
   "source": [
    "data.head(3)"
   ]
  },
  {
   "cell_type": "code",
   "execution_count": 119,
   "metadata": {},
   "outputs": [
    {
     "name": "stdout",
     "output_type": "stream",
     "text": [
      "<class 'pandas.core.frame.DataFrame'>\n",
      "Int64Index: 12910 entries, 0 to 131078\n",
      "Data columns (total 1 columns):\n",
      "ACC    12910 non-null object\n",
      "dtypes: object(1)\n",
      "memory usage: 201.7+ KB\n"
     ]
    }
   ],
   "source": [
    "#save numbers of stuff existed in 44 camp to \n",
    "acc_numbers = data[['ACC']]\n",
    "acc_numbers.info()\n",
    "data.drop(['ACC'], axis=1,inplace = True)"
   ]
  },
  {
   "cell_type": "code",
   "execution_count": 120,
   "metadata": {},
   "outputs": [],
   "source": [
    "a = [1,2,3,4,5]"
   ]
  },
  {
   "cell_type": "code",
   "execution_count": 121,
   "metadata": {},
   "outputs": [
    {
     "data": {
      "text/plain": [
       "[1, 2, 3]"
      ]
     },
     "execution_count": 121,
     "metadata": {},
     "output_type": "execute_result"
    }
   ],
   "source": [
    "a[:3]"
   ]
  },
  {
   "cell_type": "code",
   "execution_count": 122,
   "metadata": {},
   "outputs": [],
   "source": [
    "columns_to_norm = [c for c in data.columns if c.upper()[:3] != 'LVL'] #exclude first camp to match size \n",
    "lvl_columns = [c for c in data.columns if c.upper()[:3] == 'LVL'] #exclude first camp to match size "
   ]
  },
  {
   "cell_type": "code",
   "execution_count": 123,
   "metadata": {},
   "outputs": [],
   "source": [
    "norm_data = pd.DataFrame(normalize(data[columns_to_norm], axis=0))\n",
    "norm_data.columns = columns_to_norm"
   ]
  },
  {
   "cell_type": "code",
   "execution_count": 127,
   "metadata": {},
   "outputs": [],
   "source": [
    "data = data[lvl_columns].join(norm_data)"
   ]
  },
  {
   "cell_type": "code",
   "execution_count": 41,
   "metadata": {},
   "outputs": [],
   "source": [
    "#data = data.assign(ACC=(data['ACC']).astype('category').cat.codes)# convert numbers to index"
   ]
  },
  {
   "cell_type": "code",
   "execution_count": 128,
   "metadata": {},
   "outputs": [],
   "source": [
    "def plot_difference(df1, df2, camp):\n",
    "    \n",
    "    grouped = df1.groupby(df1).count()\n",
    "    grouped2 = df2.groupby(df2).count()\n",
    "    result = pd.DataFrame(grouped)\n",
    "    result2 = pd.DataFrame(grouped2)\n",
    "    \n",
    "    result.columns = ['count']\n",
    "    result['lvl'] = result.index\n",
    "    result['values'] = 'actual'\n",
    "    \n",
    "    result2.columns = ['count']\n",
    "    result2['lvl'] = result2.index\n",
    "    result2['values'] = 'prediction'\n",
    "    \n",
    "    result_r = pd.concat([result, result2])\n",
    "    \n",
    "    import seaborn as sns\n",
    "    sns.set(style=\"whitegrid\")\n",
    "\n",
    "\n",
    "    # Draw a nested barplot to show survival for class and sex\n",
    "    g = sns.catplot(x=\"lvl\", y=\"count\", hue=\"values\", data=result_r,\n",
    "                height=8, kind=\"bar\", palette=\"muted\",  aspect=1.8)\n",
    "    g.despine(left=True)\n",
    "    g.set_ylabels(camp)\n",
    "    \n",
    "    return "
   ]
  },
  {
   "cell_type": "code",
   "execution_count": 129,
   "metadata": {},
   "outputs": [],
   "source": [
    "data2 = data.copy()\n",
    "\n",
    "#exclude colums with camp44 data to fit  \n",
    "\n",
    "Y_44 = data2['LVL_44']\n",
    "cols = [c for c in data2.columns if c.lower()[-2:] != '44']\n",
    "data2 = data2[cols]\n",
    "\n",
    "Y_43 = data2['LVL_43']\n",
    "cols = [c for c in data2.columns if c.lower()[-2:] != '43']\n",
    "data2 = data2[cols]\n",
    "\n",
    "fited_columns = data2.columns # save columns names for inference\n",
    "\n"
   ]
  },
  {
   "cell_type": "code",
   "execution_count": 130,
   "metadata": {},
   "outputs": [
    {
     "name": "stdout",
     "output_type": "stream",
     "text": [
      "Wall time: 11min 16s\n"
     ]
    }
   ],
   "source": [
    "\n",
    "%%time\n",
    "import xgboost as xgb\n",
    "#train = data2[data2['CAMP'] <= 44]\n",
    "\n",
    "#xtr = train.drop(['LVL'], axis=1)\n",
    "#ytr = train['LVL'].values\n",
    "params = {'n_estimators': 1000,\n",
    "          'learning_rate': 0.01,\n",
    "          'max_depth': 3,\n",
    "          'min_child_weight': 1,\n",
    "          'subsample': 0.8,\n",
    "          'colsample_bytree': 0.8}\n",
    "\n",
    "clf_xgb = xgb.XGBClassifier(**params)\n",
    "\n",
    "\n",
    "clf_xgb.fit(data2, Y_43)\n",
    "\n"
   ]
  },
  {
   "cell_type": "code",
   "execution_count": 131,
   "metadata": {
    "scrolled": false
   },
   "outputs": [
    {
     "name": "stdout",
     "output_type": "stream",
     "text": [
      "CAMP 1 - Accuracy 0.66026\n",
      "Wall time: 5.41 s\n"
     ]
    },
    {
     "data": {
      "image/png": "[encoded data removed]",
      "text/plain": [
       "<Figure size 1124.4x576 with 1 Axes>"
      ]
     },
     "metadata": {},
     "output_type": "display_data"
    }
   ],
   "source": [
    "%%time\n",
    "mean_error = []\n",
    "p = clf_xgb.predict(data2)\n",
    "predict = pd.Series(p)\n",
    "\n",
    "plot_difference(predict, Y_43, 'test')\n",
    "error = accuracy_score(Y_43, p)\n",
    "print('CAMP %d - Accuracy %.5f' % (1, error))\n",
    "mean_error.append(error)"
   ]
  },
  {
   "cell_type": "code",
   "execution_count": 132,
   "metadata": {
    "scrolled": true
   },
   "outputs": [],
   "source": [
    "data2 = data.copy()\n",
    "\n",
    "#data for inference must be same size and has same names \n",
    "cols = [c for c in data2.columns if c.lower()[-2:] != '_0'] #exclude first camp to match size \n",
    "data2 = data2[cols]\n",
    "\n",
    "cols = [c for c in data2.columns if c.lower()[-2:] != '44']\n",
    "data2 = data2[cols]\n",
    "\n",
    "data2.columns = fited_columns\n"
   ]
  },
  {
   "cell_type": "code",
   "execution_count": 133,
   "metadata": {
    "scrolled": false
   },
   "outputs": [
    {
     "name": "stdout",
     "output_type": "stream",
     "text": [
      "CAMP 1 - Accuracy 0.46259\n",
      "Wall time: 4.3 s\n"
     ]
    },
    {
     "data": {
      "image/png": "[encoded data removed]",
      "text/plain": [
       "<Figure size 1124.4x576 with 1 Axes>"
      ]
     },
     "metadata": {},
     "output_type": "display_data"
    }
   ],
   "source": [
    "%%time\n",
    "mean_error = []\n",
    "p = clf_xgb.predict(data2)\n",
    "predict = pd.Series(p)\n",
    "\n",
    "plot_difference(predict, Y_44, 'test')\n",
    "error = accuracy_score(Y_44, p)\n",
    "print('CAMP %d - Accuracy %.5f' % (1, error))\n",
    "mean_error.append(error)"
   ]
  },
  {
   "cell_type": "code",
   "execution_count": 12,
   "metadata": {
    "scrolled": true
   },
   "outputs": [
    {
     "ename": "NameError",
     "evalue": "name 'predict' is not defined",
     "output_type": "error",
     "traceback": [
      "\u001b[1;31m---------------------------------------------------------------------------\u001b[0m",
      "\u001b[1;31mNameError\u001b[0m                                 Traceback (most recent call last)",
      "\u001b[1;32m<ipython-input-12-97890612ce1f>\u001b[0m in \u001b[0;36m<module>\u001b[1;34m()\u001b[0m\n\u001b[0;32m      1\u001b[0m \u001b[0mrefined\u001b[0m \u001b[1;33m=\u001b[0m \u001b[0mdata\u001b[0m\u001b[1;33m[\u001b[0m\u001b[1;33m[\u001b[0m\u001b[1;34m'LVL_44'\u001b[0m\u001b[1;33m]\u001b[0m\u001b[1;33m]\u001b[0m\u001b[1;33m\u001b[0m\u001b[0m\n\u001b[1;32m----> 2\u001b[1;33m \u001b[0mrefined\u001b[0m\u001b[1;33m[\u001b[0m\u001b[1;34m'predict'\u001b[0m\u001b[1;33m]\u001b[0m \u001b[1;33m=\u001b[0m \u001b[0mpredict\u001b[0m\u001b[1;33m\u001b[0m\u001b[0m\n\u001b[0m\u001b[0;32m      3\u001b[0m \u001b[0mrefined\u001b[0m\u001b[1;33m[\u001b[0m\u001b[1;34m'ACC_N'\u001b[0m\u001b[1;33m]\u001b[0m \u001b[1;33m=\u001b[0m \u001b[0macc_numbers\u001b[0m\u001b[1;33m[\u001b[0m\u001b[1;34m'ACC'\u001b[0m\u001b[1;33m]\u001b[0m\u001b[1;33m\u001b[0m\u001b[0m\n\u001b[0;32m      4\u001b[0m \u001b[0mrefined\u001b[0m\u001b[1;33m.\u001b[0m\u001b[0minfo\u001b[0m\u001b[1;33m(\u001b[0m\u001b[1;33m)\u001b[0m\u001b[1;33m\u001b[0m\u001b[0m\n",
      "\u001b[1;31mNameError\u001b[0m: name 'predict' is not defined"
     ]
    }
   ],
   "source": [
    "refined = data[['LVL_44']]\n",
    "refined['predict'] = predict\n",
    "refined['ACC_N'] = acc_numbers['ACC']\n",
    "refined.info()"
   ]
  },
  {
   "cell_type": "code",
   "execution_count": null,
   "metadata": {
    "scrolled": true
   },
   "outputs": [],
   "source": [
    "refined.head(5)"
   ]
  },
  {
   "cell_type": "code",
   "execution_count": null,
   "metadata": {},
   "outputs": [],
   "source": [
    "%%time\n",
    "\n",
    "refined.to_csv('DATA/predict13.csv', encoding='utf-8')"
   ]
  },
  {
   "cell_type": "code",
   "execution_count": null,
   "metadata": {},
   "outputs": [],
   "source": [
    "'''    grouped = refined['LVL_44'].groupby(refined['LVL_44']).count()\n",
    "    #grouped2 = refined['LVL_43'].groupby(refined['LVL_43']).count()\n",
    "    grouped3 = refined['predict'].groupby(refined['predict']).count()\n",
    "    \n",
    "    result = pd.DataFrame(grouped)\n",
    "    #result2 = pd.DataFrame(grouped2)\n",
    "    result3 = pd.DataFrame(grouped3)\n",
    "    \n",
    "    result.columns = ['count']\n",
    "    result['lvl'] = result.index\n",
    "    result['values'] = 'actual'\n",
    "    \n",
    " result2.columns = ['count']\n",
    "    result2['lvl'] = result2.index\n",
    "    result2['values'] = 'previous'\n",
    "    \n",
    "    result3.columns = ['count']\n",
    "    result3['lvl'] = result3.index\n",
    "    result3['values'] = 'prediction'\n",
    "    \n",
    "    result_r = pd.concat([result, result3]) #, result3])\n",
    "    \n",
    "    import seaborn as sns\n",
    "    sns.set(style=\"whitegrid\")\n",
    "\n",
    "\n",
    "    g = sns.catplot(x=\"lvl\", y=\"count\", hue=\"values\", data=result_r,\n",
    "                height=8, kind=\"bar\", palette=\"muted\",  aspect=1.8)\n",
    "    g.despine(left=True)\n",
    "    #g.set_ylabels(camp)\n",
    "    '''"
   ]
  },
  {
   "cell_type": "code",
   "execution_count": null,
   "metadata": {},
   "outputs": [],
   "source": [
    "'''bst = clf_xgb.get_booster()\n",
    "\n",
    "for kind in ['weight', 'gain', 'cover']:\n",
    "    imp = pd.Series(bst.get_score(importance_type=kind))\n",
    "    plt.figure()\n",
    "    imp.sort_values(ascending=False).iloc[:10].plot(kind='barh', title=kind)'''"
   ]
  },
  {
   "cell_type": "code",
   "execution_count": null,
   "metadata": {
    "scrolled": true
   },
   "outputs": [],
   "source": [
    "'''%%time\n",
    "mean_error = []\n",
    "df_mean = pd.DataFrame(columns=['LVL_mean'])\n",
    "for camp in range(34,44):\n",
    "    train = data2[data2['CAMP'] < camp]\n",
    "    val = data2[data2['CAMP'] == camp]\n",
    "    \n",
    "    p = val['prev_level'].values\n",
    "\n",
    "    error = rmsle(val['LVL'].values, p)\n",
    "    plot_difference(val['prev_level'], val['LVL'], camp)\n",
    "    print('CAMP %d - Accuracy %.5f' % (camp, error))\n",
    "    mean_error.append(error)\n",
    "\n",
    "print('Mean Accuracy = %.5f' % np.mean(mean_error))'''"
   ]
  },
  {
   "cell_type": "code",
   "execution_count": null,
   "metadata": {},
   "outputs": [],
   "source": [
    "'''train = data2[data2['CAMP'] <= 44]\n",
    "\n",
    "xtr = train.drop(['LVL'], axis=1)\n",
    "ytr = train['LVL'].values\n",
    "\n",
    "mdl = RandomForestRegressor(n_estimators=1000, n_jobs=-1, random_state=0)\n",
    "mdl.fit(xtr, ytr)\n",
    "\n",
    "p = mdl.predict(xts)\n",
    "p = np.rint(p)\n",
    "predict = pd.Series(p)\n",
    "plot_difference(predict, val['LVL'], camp)\n",
    "error = rmsle(yts, p)\n",
    "print('CAMP %d - Accuracy %.5f' % (camp, error))\n",
    "mean_error.append(error)'''"
   ]
  }
 ],
 "metadata": {
  "kernelspec": {
   "display_name": "Python 3",
   "language": "python",
   "name": "python3"
  },
  "language_info": {
   "codemirror_mode": {
    "name": "ipython",
    "version": 3
   },
   "file_extension": ".py",
   "mimetype": "text/x-python",
   "name": "python",
   "nbconvert_exporter": "python",
   "pygments_lexer": "ipython3",
   "version": "3.6.4"
  }
 },
 "nbformat": 4,
 "nbformat_minor": 2
}
