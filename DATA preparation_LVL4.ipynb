{
 "cells": [
  {
   "cell_type": "code",
   "execution_count": 1,
   "metadata": {},
   "outputs": [],
   "source": [
    "import pandas as pd\n",
    "import numpy as np\n",
    "%matplotlib inline\n",
    "\n",
    "from sklearn.metrics import mean_squared_log_error\n",
    "from sklearn.ensemble import RandomForestRegressor\n",
    "from lightgbm import LGBMRegressor"
   ]
  },
  {
   "cell_type": "code",
   "execution_count": 2,
   "metadata": {},
   "outputs": [
    {
     "name": "stdout",
     "output_type": "stream",
     "text": [
      "Wall time: 6.12 s\n"
     ]
    }
   ],
   "source": [
    "%%time\n",
    "data = pd.read_csv('DATA\\c16-18.csv',delimiter=\";\",decimal=\",\")\n",
    "data.drop([\"   \"], axis=1,inplace = True)\n",
    "data.head()"
   ]
  },
  {
   "cell_type": "code",
   "execution_count": 7,
   "metadata": {},
   "outputs": [
    {
     "data": {
      "text/plain": [
       "<bound method Series.max of 0          N16-02\n",
       "1          N16-02\n",
       "2          N16-02\n",
       "3          N16-02\n",
       "4          N16-02\n",
       "5          N16-02\n",
       "6          N16-02\n",
       "7          N16-02\n",
       "8          N16-02\n",
       "9          N16-02\n",
       "10         N16-02\n",
       "11         N16-02\n",
       "12         N16-02\n",
       "13         N16-02\n",
       "14         N16-02\n",
       "15         N16-02\n",
       "16         N16-02\n",
       "17         N16-02\n",
       "18         N16-02\n",
       "19         N16-02\n",
       "20         N16-02\n",
       "21         N16-02\n",
       "22         N16-02\n",
       "23         N16-02\n",
       "24         N16-02\n",
       "25         N16-02\n",
       "26         N16-02\n",
       "27         N16-02\n",
       "28         N16-02\n",
       "29         N16-02\n",
       "            ...  \n",
       "1570648    N18-12\n",
       "1570649    N18-12\n",
       "1570650    N18-12\n",
       "1570651    N18-12\n",
       "1570652    N18-12\n",
       "1570653    N18-12\n",
       "1570654    N18-12\n",
       "1570655    N18-12\n",
       "1570656    N18-12\n",
       "1570657    N18-12\n",
       "1570658    N18-12\n",
       "1570659    N18-12\n",
       "1570660    N18-12\n",
       "1570661    N18-12\n",
       "1570662    N18-12\n",
       "1570663    N18-12\n",
       "1570664    N18-12\n",
       "1570665    N18-12\n",
       "1570666    N18-12\n",
       "1570667    N18-12\n",
       "1570668    N18-12\n",
       "1570669    N18-12\n",
       "1570670    N18-12\n",
       "1570671    N18-12\n",
       "1570672    N18-12\n",
       "1570673    N18-12\n",
       "1570674    N18-12\n",
       "1570675    N18-12\n",
       "1570676    N18-12\n",
       "1570677    N18-12\n",
       "Name: CAMP, Length: 1570678, dtype: object>"
      ]
     },
     "execution_count": 7,
     "metadata": {},
     "output_type": "execute_result"
    }
   ],
   "source": [
    "data['CAMP'].max"
   ]
  },
  {
   "cell_type": "code",
   "execution_count": 4,
   "metadata": {
    "scrolled": true
   },
   "outputs": [],
   "source": [
    "#data = data.assign(ACC=(data['ACC']).astype('category').cat.codes)"
   ]
  },
  {
   "cell_type": "code",
   "execution_count": 5,
   "metadata": {},
   "outputs": [],
   "source": [
    "data = data.assign(CAMP=(data['CAMP']).astype('category').cat.codes)"
   ]
  },
  {
   "cell_type": "code",
   "execution_count": 6,
   "metadata": {},
   "outputs": [],
   "source": [
    "#camps = data['CAMP'].unique()"
   ]
  },
  {
   "cell_type": "code",
   "execution_count": 7,
   "metadata": {},
   "outputs": [],
   "source": [
    "data = data.groupby('ACC')['CAMP', 'LVL', 'AWARD', 'LOA', 'STAFF', 'PREVSTAFF', 'BALS',\n",
    "       'GAS', 'PAS', 'BLCKDSLS', 'RETURNS', 'DL_T1', 'DL_T2', 'DL_T3', 'DL_T4',\n",
    "       'DL_T5', 'DL_T6', 'DL_T7', 'DL_T8', 'DL_T9', 'DL_T10', 'DL_T11',\n",
    "       'DL_T12', 'DL_T13', 'DL_T14', 'DL_T15', 'DL_T16', 'DL_T17', 'DL_T18',\n",
    "       'DL_T19'].apply(lambda x: pd.DataFrame(x.values)).unstack().reset_index()"
   ]
  },
  {
   "cell_type": "code",
   "execution_count": 8,
   "metadata": {},
   "outputs": [],
   "source": [
    "data.columns = data.columns.droplevel() "
   ]
  },
  {
   "cell_type": "code",
   "execution_count": 10,
   "metadata": {},
   "outputs": [],
   "source": [
    "data.columns = ['ACC','CAMP_0', 'CAMP_1', 'CAMP_2', 'CAMP_3', 'CAMP_4', 'CAMP_5', 'CAMP_6', 'CAMP_7', 'CAMP_8', 'CAMP_9', 'CAMP_10', 'CAMP_11', 'CAMP_12', 'CAMP_13', 'CAMP_14', 'CAMP_15', 'CAMP_16', 'CAMP_17', 'CAMP_18', 'CAMP_19', 'CAMP_20', 'CAMP_21', 'CAMP_22', 'CAMP_23', 'CAMP_24', 'CAMP_25', 'CAMP_26', 'CAMP_27', 'CAMP_28', 'CAMP_29', 'CAMP_30', 'CAMP_31', 'CAMP_32', 'CAMP_33', 'CAMP_34', 'CAMP_35', 'CAMP_36', 'CAMP_37', 'CAMP_38', 'CAMP_39', 'CAMP_40', 'CAMP_41', 'CAMP_42', 'CAMP_43', 'CAMP_44', \n",
    "                'LVL_0','LVL_1', 'LVL_2', 'LVL_3', 'LVL_4', 'LVL_5', 'LVL_6', 'LVL_7', 'LVL_8', 'LVL_9', 'LVL_10', 'LVL_11', 'LVL_12', 'LVL_13', 'LVL_14', 'LVL_15', 'LVL_16', 'LVL_17', 'LVL_18', 'LVL_19', 'LVL_20', 'LVL_21', 'LVL_22', 'LVL_23', 'LVL_24', 'LVL_25', 'LVL_26', 'LVL_27', 'LVL_28', 'LVL_29', 'LVL_30', 'LVL_31', 'LVL_32', 'LVL_33', 'LVL_34', 'LVL_35', 'LVL_36', 'LVL_37', 'LVL_38', 'LVL_39', 'LVL_40', 'LVL_41', 'LVL_42', 'LVL_43', 'LVL_44',\n",
    "                'AWARD_0','AWARD_1', 'AWARD_2', 'AWARD_3', 'AWARD_4', 'AWARD_5', 'AWARD_6', 'AWARD_7', 'AWARD_8', 'AWARD_9', 'AWARD_10', 'AWARD_11', 'AWARD_12', 'AWARD_13', 'AWARD_14', 'AWARD_15', 'AWARD_16', 'AWARD_17', 'AWARD_18', 'AWARD_19', 'AWARD_20', 'AWARD_21', 'AWARD_22', 'AWARD_23', 'AWARD_24', 'AWARD_25', 'AWARD_26', 'AWARD_27', 'AWARD_28', 'AWARD_29', 'AWARD_30', 'AWARD_31', 'AWARD_32', 'AWARD_33', 'AWARD_34', 'AWARD_35', 'AWARD_36', 'AWARD_37', 'AWARD_38', 'AWARD_39', 'AWARD_40', 'AWARD_41', 'AWARD_42', 'AWARD_43', 'AWARD_44',\n",
    "                 'LOA_0','LOA_1', 'LOA_2', 'LOA_3', 'LOA_4', 'LOA_5', 'LOA_6', 'LOA_7', 'LOA_8', 'LOA_9', 'LOA_10', 'LOA_11', 'LOA_12', 'LOA_13', 'LOA_14', 'LOA_15', 'LOA_16', 'LOA_17', 'LOA_18', 'LOA_19', 'LOA_20', 'LOA_21', 'LOA_22', 'LOA_23', 'LOA_24', 'LOA_25', 'LOA_26', 'LOA_27', 'LOA_28', 'LOA_29', 'LOA_30', 'LOA_31', 'LOA_32', 'LOA_33', 'LOA_34', 'LOA_35', 'LOA_36', 'LOA_37', 'LOA_38', 'LOA_39', 'LOA_40', 'LOA_41', 'LOA_42', 'LOA_43', 'LOA_44',\n",
    "                'STAFF_0','STAFF_1','STAFF_2','STAFF_3','STAFF_4','STAFF_5','STAFF_6','STAFF_7','STAFF_8','STAFF_9','STAFF_10','STAFF_11','STAFF_12','STAFF_13','STAFF_14','STAFF_15','STAFF_16','STAFF_17','STAFF_18','STAFF_19','STAFF_20','STAFF_21','STAFF_22','STAFF_23','STAFF_24','STAFF_25','STAFF_26','STAFF_27','STAFF_28','STAFF_29','STAFF_30','STAFF_31','STAFF_32','STAFF_33','STAFF_34','STAFF_35','STAFF_36','STAFF_37','STAFF_38','STAFF_39','STAFF_40','STAFF_41','STAFF_42','STAFF_43','STAFF_44',\n",
    "               'PREVSTAFF_0','PREVSTAFF_1','PREVSTAFF_2','PREVSTAFF_3','PREVSTAFF_4','PREVSTAFF_5','PREVSTAFF_6','PREVSTAFF_7','PREVSTAFF_8','PREVSTAFF_9','PREVSTAFF_10','PREVSTAFF_11','PREVSTAFF_12','PREVSTAFF_13','PREVSTAFF_14','PREVSTAFF_15','PREVSTAFF_16','PREVSTAFF_17','PREVSTAFF_18','PREVSTAFF_19','PREVSTAFF_20','PREVSTAFF_21','PREVSTAFF_22','PREVSTAFF_23','PREVSTAFF_24','PREVSTAFF_25','PREVSTAFF_26','PREVSTAFF_27','PREVSTAFF_28','PREVSTAFF_29','PREVSTAFF_30','PREVSTAFF_31','PREVSTAFF_32','PREVSTAFF_33','PREVSTAFF_34','PREVSTAFF_35','PREVSTAFF_36','PREVSTAFF_37','PREVSTAFF_38','PREVSTAFF_39','PREVSTAFF_40','PREVSTAFF_41','PREVSTAFF_42','PREVSTAFF_43','PREVSTAFF_44',\n",
    "               'BALS_0','BALS_1','BALS_2','BALS_3','BALS_4','BALS_5','BALS_6','BALS_7','BALS_8','BALS_9','BALS_10','BALS_11','BALS_12','BALS_13','BALS_14','BALS_15','BALS_16','BALS_17','BALS_18','BALS_19','BALS_20','BALS_21','BALS_22','BALS_23','BALS_24','BALS_25','BALS_26','BALS_27','BALS_28','BALS_29','BALS_30','BALS_31','BALS_32','BALS_33','BALS_34','BALS_35','BALS_36','BALS_37','BALS_38','BALS_39','BALS_40','BALS_41','BALS_42','BALS_43','BALS_44',\n",
    "               'GAS_0','GAS_1','GAS_2','GAS_3','GAS_4','GAS_5','GAS_6','GAS_7','GAS_8','GAS_9','GAS_10','GAS_11','GAS_12','GAS_13','GAS_14','GAS_15','GAS_16','GAS_17','GAS_18','GAS_19','GAS_20','GAS_21','GAS_22','GAS_23','GAS_24','GAS_25','GAS_26','GAS_27','GAS_28','GAS_29','GAS_30','GAS_31','GAS_32','GAS_33','GAS_34','GAS_35','GAS_36','GAS_37','GAS_38','GAS_39','GAS_40','GAS_41','GAS_42','GAS_43','GAS_44',\n",
    "               'PAS_0','PAS_1','PAS_2','PAS_3','PAS_4','PAS_5','PAS_6','PAS_7','PAS_8','PAS_9','PAS_10','PAS_11','PAS_12','PAS_13','PAS_14','PAS_15','PAS_16','PAS_17','PAS_18','PAS_19','PAS_20','PAS_21','PAS_22','PAS_23','PAS_24','PAS_25','PAS_26','PAS_27','PAS_28','PAS_29','PAS_30','PAS_31','PAS_32','PAS_33','PAS_34','PAS_35','PAS_36','PAS_37','PAS_38','PAS_39','PAS_40','PAS_41','PAS_42','PAS_43','PAS_44',\n",
    "               'BLCKDSLS_0','BLCKDSLS_1','BLCKDSLS_2','BLCKDSLS_3','BLCKDSLS_4','BLCKDSLS_5','BLCKDSLS_6','BLCKDSLS_7','BLCKDSLS_8','BLCKDSLS_9','BLCKDSLS_10','BLCKDSLS_11','BLCKDSLS_12','BLCKDSLS_13','BLCKDSLS_14','BLCKDSLS_15','BLCKDSLS_16','BLCKDSLS_17','BLCKDSLS_18','BLCKDSLS_19','BLCKDSLS_20','BLCKDSLS_21','BLCKDSLS_22','BLCKDSLS_23','BLCKDSLS_24','BLCKDSLS_25','BLCKDSLS_26','BLCKDSLS_27','BLCKDSLS_28','BLCKDSLS_29','BLCKDSLS_30','BLCKDSLS_31','BLCKDSLS_32','BLCKDSLS_33','BLCKDSLS_34','BLCKDSLS_35','BLCKDSLS_36','BLCKDSLS_37','BLCKDSLS_38','BLCKDSLS_39','BLCKDSLS_40','BLCKDSLS_41','BLCKDSLS_42','BLCKDSLS_43','BLCKDSLS_44',\n",
    "               'RETURNS_0','RETURNS_1','RETURNS_2','RETURNS_3','RETURNS_4','RETURNS_5','RETURNS_6','RETURNS_7','RETURNS_8','RETURNS_9','RETURNS_10','RETURNS_11','RETURNS_12','RETURNS_13','RETURNS_14','RETURNS_15','RETURNS_16','RETURNS_17','RETURNS_18','RETURNS_19','RETURNS_20','RETURNS_21','RETURNS_22','RETURNS_23','RETURNS_24','RETURNS_25','RETURNS_26','RETURNS_27','RETURNS_28','RETURNS_29','RETURNS_30','RETURNS_31','RETURNS_32','RETURNS_33','RETURNS_34','RETURNS_35','RETURNS_36','RETURNS_37','RETURNS_38','RETURNS_39','RETURNS_40','RETURNS_41','RETURNS_42','RETURNS_43','RETURNS_44',\n",
    "               'DL_T1_0','DL_T1_1','DL_T1_2','DL_T1_3','DL_T1_4','DL_T1_5','DL_T1_6','DL_T1_7','DL_T1_8','DL_T1_9','DL_T1_10','DL_T1_11','DL_T1_12','DL_T1_13','DL_T1_14','DL_T1_15','DL_T1_16','DL_T1_17','DL_T1_18','DL_T1_19','DL_T1_20','DL_T1_21','DL_T1_22','DL_T1_23','DL_T1_24','DL_T1_25','DL_T1_26','DL_T1_27','DL_T1_28','DL_T1_29','DL_T1_30','DL_T1_31','DL_T1_32','DL_T1_33','DL_T1_34','DL_T1_35','DL_T1_36','DL_T1_37','DL_T1_38','DL_T1_39','DL_T1_40','DL_T1_41','DL_T1_42','DL_T1_43','DL_T1_44',\n",
    "               'DL_T2_0','DL_T2_1','DL_T2_2','DL_T2_3','DL_T2_4','DL_T2_5','DL_T2_6','DL_T2_7','DL_T2_8','DL_T2_9','DL_T2_10','DL_T2_11','DL_T2_12','DL_T2_13','DL_T2_14','DL_T2_15','DL_T2_16','DL_T2_17','DL_T2_18','DL_T2_19','DL_T2_20','DL_T2_21','DL_T2_22','DL_T2_23','DL_T2_24','DL_T2_25','DL_T2_26','DL_T2_27','DL_T2_28','DL_T2_29','DL_T2_30','DL_T2_31','DL_T2_32','DL_T2_33','DL_T2_34','DL_T2_35','DL_T2_36','DL_T2_37','DL_T2_38','DL_T2_39','DL_T2_40','DL_T2_41','DL_T2_42','DL_T2_43','DL_T2_44',\n",
    "               'DL_T3_0','DL_T3_1','DL_T3_2','DL_T3_3','DL_T3_4','DL_T3_5','DL_T3_6','DL_T3_7','DL_T3_8','DL_T3_9','DL_T3_10','DL_T3_11','DL_T3_12','DL_T3_13','DL_T3_14','DL_T3_15','DL_T3_16','DL_T3_17','DL_T3_18','DL_T3_19','DL_T3_20','DL_T3_21','DL_T3_22','DL_T3_23','DL_T3_24','DL_T3_25','DL_T3_26','DL_T3_27','DL_T3_28','DL_T3_29','DL_T3_30','DL_T3_31','DL_T3_32','DL_T3_33','DL_T3_34','DL_T3_35','DL_T3_36','DL_T3_37','DL_T3_38','DL_T3_39','DL_T3_40','DL_T3_41','DL_T3_42','DL_T3_43','DL_T3_44',\n",
    "               'DL_T4_0','DL_T4_1','DL_T4_2','DL_T4_3','DL_T4_4','DL_T4_5','DL_T4_6','DL_T4_7','DL_T4_8','DL_T4_9','DL_T4_10','DL_T4_11','DL_T4_12','DL_T4_13','DL_T4_14','DL_T4_15','DL_T4_16','DL_T4_17','DL_T4_18','DL_T4_19','DL_T4_20','DL_T4_21','DL_T4_22','DL_T4_23','DL_T4_24','DL_T4_25','DL_T4_26','DL_T4_27','DL_T4_28','DL_T4_29','DL_T4_30','DL_T4_31','DL_T4_32','DL_T4_33','DL_T4_34','DL_T4_35','DL_T4_36','DL_T4_37','DL_T4_38','DL_T4_39','DL_T4_40','DL_T4_41','DL_T4_42','DL_T4_43','DL_T4_44',\n",
    "               'DL_T5_0','DL_T5_1','DL_T5_2','DL_T5_3','DL_T5_4','DL_T5_5','DL_T5_6','DL_T5_7','DL_T5_8','DL_T5_9','DL_T5_10','DL_T5_11','DL_T5_12','DL_T5_13','DL_T5_14','DL_T5_15','DL_T5_16','DL_T5_17','DL_T5_18','DL_T5_19','DL_T5_20','DL_T5_21','DL_T5_22','DL_T5_23','DL_T5_24','DL_T5_25','DL_T5_26','DL_T5_27','DL_T5_28','DL_T5_29','DL_T5_30','DL_T5_31','DL_T5_32','DL_T5_33','DL_T5_34','DL_T5_35','DL_T5_36','DL_T5_37','DL_T5_38','DL_T5_39','DL_T5_40','DL_T5_41','DL_T5_42','DL_T5_43','DL_T5_44',\n",
    "               'DL_T6_0','DL_T6_1','DL_T6_2','DL_T6_3','DL_T6_4','DL_T6_5','DL_T6_6','DL_T6_7','DL_T6_8','DL_T6_9','DL_T6_10','DL_T6_11','DL_T6_12','DL_T6_13','DL_T6_14','DL_T6_15','DL_T6_16','DL_T6_17','DL_T6_18','DL_T6_19','DL_T6_20','DL_T6_21','DL_T6_22','DL_T6_23','DL_T6_24','DL_T6_25','DL_T6_26','DL_T6_27','DL_T6_28','DL_T6_29','DL_T6_30','DL_T6_31','DL_T6_32','DL_T6_33','DL_T6_34','DL_T6_35','DL_T6_36','DL_T6_37','DL_T6_38','DL_T6_39','DL_T6_40','DL_T6_41','DL_T6_42','DL_T6_43','DL_T6_44',\n",
    "               'DL_T7_0','DL_T7_1','DL_T7_2','DL_T7_3','DL_T7_4','DL_T7_5','DL_T7_6','DL_T7_7','DL_T7_8','DL_T7_9','DL_T7_10','DL_T7_11','DL_T7_12','DL_T7_13','DL_T7_14','DL_T7_15','DL_T7_16','DL_T7_17','DL_T7_18','DL_T7_19','DL_T7_20','DL_T7_21','DL_T7_22','DL_T7_23','DL_T7_24','DL_T7_25','DL_T7_26','DL_T7_27','DL_T7_28','DL_T7_29','DL_T7_30','DL_T7_31','DL_T7_32','DL_T7_33','DL_T7_34','DL_T7_35','DL_T7_36','DL_T7_37','DL_T7_38','DL_T7_39','DL_T7_40','DL_T7_41','DL_T7_42','DL_T7_43','DL_T7_44',\n",
    "               'DL_T8_0','DL_T8_1','DL_T8_2','DL_T8_3','DL_T8_4','DL_T8_5','DL_T8_6','DL_T8_7','DL_T8_8','DL_T8_9','DL_T8_10','DL_T8_11','DL_T8_12','DL_T8_13','DL_T8_14','DL_T8_15','DL_T8_16','DL_T8_17','DL_T8_18','DL_T8_19','DL_T8_20','DL_T8_21','DL_T8_22','DL_T8_23','DL_T8_24','DL_T8_25','DL_T8_26','DL_T8_27','DL_T8_28','DL_T8_29','DL_T8_30','DL_T8_31','DL_T8_32','DL_T8_33','DL_T8_34','DL_T8_35','DL_T8_36','DL_T8_37','DL_T8_38','DL_T8_39','DL_T8_40','DL_T8_41','DL_T8_42','DL_T8_43','DL_T8_44',\n",
    "               'DL_T9_0','DL_T9_1','DL_T9_2','DL_T9_3','DL_T9_4','DL_T9_5','DL_T9_6','DL_T9_7','DL_T9_8','DL_T9_9','DL_T9_10','DL_T9_11','DL_T9_12','DL_T9_13','DL_T9_14','DL_T9_15','DL_T9_16','DL_T9_17','DL_T9_18','DL_T9_19','DL_T9_20','DL_T9_21','DL_T9_22','DL_T9_23','DL_T9_24','DL_T9_25','DL_T9_26','DL_T9_27','DL_T9_28','DL_T9_29','DL_T9_30','DL_T9_31','DL_T9_32','DL_T9_33','DL_T9_34','DL_T9_35','DL_T9_36','DL_T9_37','DL_T9_38','DL_T9_39','DL_T9_40','DL_T9_41','DL_T9_42','DL_T9_43','DL_T9_44',\n",
    "               'DL_T10_0','DL_T10_1','DL_T10_2','DL_T10_3','DL_T10_4','DL_T10_5','DL_T10_6','DL_T10_7','DL_T10_8','DL_T10_9','DL_T10_10','DL_T10_11','DL_T10_12','DL_T10_13','DL_T10_14','DL_T10_15','DL_T10_16','DL_T10_17','DL_T10_18','DL_T10_19','DL_T10_20','DL_T10_21','DL_T10_22','DL_T10_23','DL_T10_24','DL_T10_25','DL_T10_26','DL_T10_27','DL_T10_28','DL_T10_29','DL_T10_30','DL_T10_31','DL_T10_32','DL_T10_33','DL_T10_34','DL_T10_35','DL_T10_36','DL_T10_37','DL_T10_38','DL_T10_39','DL_T10_40','DL_T10_41','DL_T10_42','DL_T10_43','DL_T10_44',\n",
    "               'DL_T11_0','DL_T11_1','DL_T11_2','DL_T11_3','DL_T11_4','DL_T11_5','DL_T11_6','DL_T11_7','DL_T11_8','DL_T11_9','DL_T11_10','DL_T11_11','DL_T11_12','DL_T11_13','DL_T11_14','DL_T11_15','DL_T11_16','DL_T11_17','DL_T11_18','DL_T11_19','DL_T11_20','DL_T11_21','DL_T11_22','DL_T11_23','DL_T11_24','DL_T11_25','DL_T11_26','DL_T11_27','DL_T11_28','DL_T11_29','DL_T11_30','DL_T11_31','DL_T11_32','DL_T11_33','DL_T11_34','DL_T11_35','DL_T11_36','DL_T11_37','DL_T11_38','DL_T11_39','DL_T11_40','DL_T11_41','DL_T11_42','DL_T11_43','DL_T11_44',\n",
    "               'DL_T12_0','DL_T12_1','DL_T12_2','DL_T12_3','DL_T12_4','DL_T12_5','DL_T12_6','DL_T12_7','DL_T12_8','DL_T12_9','DL_T12_10','DL_T12_11','DL_T12_12','DL_T12_13','DL_T12_14','DL_T12_15','DL_T12_16','DL_T12_17','DL_T12_18','DL_T12_19','DL_T12_20','DL_T12_21','DL_T12_22','DL_T12_23','DL_T12_24','DL_T12_25','DL_T12_26','DL_T12_27','DL_T12_28','DL_T12_29','DL_T12_30','DL_T12_31','DL_T12_32','DL_T12_33','DL_T12_34','DL_T12_35','DL_T12_36','DL_T12_37','DL_T12_38','DL_T12_39','DL_T12_40','DL_T12_41','DL_T12_42','DL_T12_43','DL_T12_44',\n",
    "               'DL_T13_0','DL_T13_1','DL_T13_2','DL_T13_3','DL_T13_4','DL_T13_5','DL_T13_6','DL_T13_7','DL_T13_8','DL_T13_9','DL_T13_10','DL_T13_11','DL_T13_12','DL_T13_13','DL_T13_14','DL_T13_15','DL_T13_16','DL_T13_17','DL_T13_18','DL_T13_19','DL_T13_20','DL_T13_21','DL_T13_22','DL_T13_23','DL_T13_24','DL_T13_25','DL_T13_26','DL_T13_27','DL_T13_28','DL_T13_29','DL_T13_30','DL_T13_31','DL_T13_32','DL_T13_33','DL_T13_34','DL_T13_35','DL_T13_36','DL_T13_37','DL_T13_38','DL_T13_39','DL_T13_40','DL_T13_41','DL_T13_42','DL_T13_43','DL_T13_44',\n",
    "               'DL_T14_0','DL_T14_1','DL_T14_2','DL_T14_3','DL_T14_4','DL_T14_5','DL_T14_6','DL_T14_7','DL_T14_8','DL_T14_9','DL_T14_10','DL_T14_11','DL_T14_12','DL_T14_13','DL_T14_14','DL_T14_15','DL_T14_16','DL_T14_17','DL_T14_18','DL_T14_19','DL_T14_20','DL_T14_21','DL_T14_22','DL_T14_23','DL_T14_24','DL_T14_25','DL_T14_26','DL_T14_27','DL_T14_28','DL_T14_29','DL_T14_30','DL_T14_31','DL_T14_32','DL_T14_33','DL_T14_34','DL_T14_35','DL_T14_36','DL_T14_37','DL_T14_38','DL_T14_39','DL_T14_40','DL_T14_41','DL_T14_42','DL_T14_43','DL_T14_44',\n",
    "               'DL_T15_0','DL_T15_1','DL_T15_2','DL_T15_3','DL_T15_4','DL_T15_5','DL_T15_6','DL_T15_7','DL_T15_8','DL_T15_9','DL_T15_10','DL_T15_11','DL_T15_12','DL_T15_13','DL_T15_14','DL_T15_15','DL_T15_16','DL_T15_17','DL_T15_18','DL_T15_19','DL_T15_20','DL_T15_21','DL_T15_22','DL_T15_23','DL_T15_24','DL_T15_25','DL_T15_26','DL_T15_27','DL_T15_28','DL_T15_29','DL_T15_30','DL_T15_31','DL_T15_32','DL_T15_33','DL_T15_34','DL_T15_35','DL_T15_36','DL_T15_37','DL_T15_38','DL_T15_39','DL_T15_40','DL_T15_41','DL_T15_42','DL_T15_43','DL_T15_44',\n",
    "               'DL_T16_0','DL_T16_1','DL_T16_2','DL_T16_3','DL_T16_4','DL_T16_5','DL_T16_6','DL_T16_7','DL_T16_8','DL_T16_9','DL_T16_10','DL_T16_11','DL_T16_12','DL_T16_13','DL_T16_14','DL_T16_15','DL_T16_16','DL_T16_17','DL_T16_18','DL_T16_19','DL_T16_20','DL_T16_21','DL_T16_22','DL_T16_23','DL_T16_24','DL_T16_25','DL_T16_26','DL_T16_27','DL_T16_28','DL_T16_29','DL_T16_30','DL_T16_31','DL_T16_32','DL_T16_33','DL_T16_34','DL_T16_35','DL_T16_36','DL_T16_37','DL_T16_38','DL_T16_39','DL_T16_40','DL_T16_41','DL_T16_42','DL_T16_43','DL_T16_44',\n",
    "               'DL_T17_0','DL_T17_1','DL_T17_2','DL_T17_3','DL_T17_4','DL_T17_5','DL_T17_6','DL_T17_7','DL_T17_8','DL_T17_9','DL_T17_10','DL_T17_11','DL_T17_12','DL_T17_13','DL_T17_14','DL_T17_15','DL_T17_16','DL_T17_17','DL_T17_18','DL_T17_19','DL_T17_20','DL_T17_21','DL_T17_22','DL_T17_23','DL_T17_24','DL_T17_25','DL_T17_26','DL_T17_27','DL_T17_28','DL_T17_29','DL_T17_30','DL_T17_31','DL_T17_32','DL_T17_33','DL_T17_34','DL_T17_35','DL_T17_36','DL_T17_37','DL_T17_38','DL_T17_39','DL_T17_40','DL_T17_41','DL_T17_42','DL_T17_43','DL_T17_44',\n",
    "               'DL_T18_0','DL_T18_1','DL_T18_2','DL_T18_3','DL_T18_4','DL_T18_5','DL_T18_6','DL_T18_7','DL_T18_8','DL_T18_9','DL_T18_10','DL_T18_11','DL_T18_12','DL_T18_13','DL_T18_14','DL_T18_15','DL_T18_16','DL_T18_17','DL_T18_18','DL_T18_19','DL_T18_20','DL_T18_21','DL_T18_22','DL_T18_23','DL_T18_24','DL_T18_25','DL_T18_26','DL_T18_27','DL_T18_28','DL_T18_29','DL_T18_30','DL_T18_31','DL_T18_32','DL_T18_33','DL_T18_34','DL_T18_35','DL_T18_36','DL_T18_37','DL_T18_38','DL_T18_39','DL_T18_40','DL_T18_41','DL_T18_42','DL_T18_43','DL_T18_44',\n",
    "               'DL_T19_0','DL_T19_1','DL_T19_2','DL_T19_3','DL_T19_4','DL_T19_5','DL_T19_6','DL_T19_7','DL_T19_8','DL_T19_9','DL_T19_10','DL_T19_11','DL_T19_12','DL_T19_13','DL_T19_14','DL_T19_15','DL_T19_16','DL_T19_17','DL_T19_18','DL_T19_19','DL_T19_20','DL_T19_21','DL_T19_22','DL_T19_23','DL_T19_24','DL_T19_25','DL_T19_26','DL_T19_27','DL_T19_28','DL_T19_29','DL_T19_30','DL_T19_31','DL_T19_32','DL_T19_33','DL_T19_34','DL_T19_35','DL_T19_36','DL_T19_37','DL_T19_38','DL_T19_39','DL_T19_40','DL_T19_41','DL_T19_42','DL_T19_43','DL_T19_44'\n",
    "               \n",
    "             \n",
    "             \n",
    "               ]"
   ]
  },
  {
   "cell_type": "code",
   "execution_count": 11,
   "metadata": {},
   "outputs": [
    {
     "data": {
      "text/html": [
       "<div>\n",
       "<style scoped>\n",
       "    .dataframe tbody tr th:only-of-type {\n",
       "        vertical-align: middle;\n",
       "    }\n",
       "\n",
       "    .dataframe tbody tr th {\n",
       "        vertical-align: top;\n",
       "    }\n",
       "\n",
       "    .dataframe thead th {\n",
       "        text-align: right;\n",
       "    }\n",
       "</style>\n",
       "<table border=\"1\" class=\"dataframe\">\n",
       "  <thead>\n",
       "    <tr style=\"text-align: right;\">\n",
       "      <th></th>\n",
       "      <th>ACC</th>\n",
       "      <th>CAMP_0</th>\n",
       "      <th>CAMP_1</th>\n",
       "      <th>CAMP_2</th>\n",
       "      <th>CAMP_3</th>\n",
       "      <th>CAMP_4</th>\n",
       "      <th>CAMP_5</th>\n",
       "      <th>CAMP_6</th>\n",
       "      <th>CAMP_7</th>\n",
       "      <th>CAMP_8</th>\n",
       "      <th>...</th>\n",
       "      <th>DL_T19_35</th>\n",
       "      <th>DL_T19_36</th>\n",
       "      <th>DL_T19_37</th>\n",
       "      <th>DL_T19_38</th>\n",
       "      <th>DL_T19_39</th>\n",
       "      <th>DL_T19_40</th>\n",
       "      <th>DL_T19_41</th>\n",
       "      <th>DL_T19_42</th>\n",
       "      <th>DL_T19_43</th>\n",
       "      <th>DL_T19_44</th>\n",
       "    </tr>\n",
       "  </thead>\n",
       "  <tbody>\n",
       "    <tr>\n",
       "      <th>0</th>\n",
       "      <td>C0100006</td>\n",
       "      <td>0.0</td>\n",
       "      <td>1.0</td>\n",
       "      <td>2.0</td>\n",
       "      <td>3.0</td>\n",
       "      <td>4.0</td>\n",
       "      <td>5.0</td>\n",
       "      <td>6.0</td>\n",
       "      <td>7.0</td>\n",
       "      <td>8.0</td>\n",
       "      <td>...</td>\n",
       "      <td>0.0</td>\n",
       "      <td>0.0</td>\n",
       "      <td>0.0</td>\n",
       "      <td>0.0</td>\n",
       "      <td>0.0</td>\n",
       "      <td>0.0</td>\n",
       "      <td>0.0</td>\n",
       "      <td>0.0</td>\n",
       "      <td>0.0</td>\n",
       "      <td>0.0</td>\n",
       "    </tr>\n",
       "    <tr>\n",
       "      <th>1</th>\n",
       "      <td>C0100010</td>\n",
       "      <td>0.0</td>\n",
       "      <td>1.0</td>\n",
       "      <td>2.0</td>\n",
       "      <td>3.0</td>\n",
       "      <td>4.0</td>\n",
       "      <td>5.0</td>\n",
       "      <td>6.0</td>\n",
       "      <td>7.0</td>\n",
       "      <td>8.0</td>\n",
       "      <td>...</td>\n",
       "      <td>NaN</td>\n",
       "      <td>NaN</td>\n",
       "      <td>NaN</td>\n",
       "      <td>NaN</td>\n",
       "      <td>NaN</td>\n",
       "      <td>NaN</td>\n",
       "      <td>NaN</td>\n",
       "      <td>NaN</td>\n",
       "      <td>NaN</td>\n",
       "      <td>NaN</td>\n",
       "    </tr>\n",
       "    <tr>\n",
       "      <th>2</th>\n",
       "      <td>C0100048</td>\n",
       "      <td>0.0</td>\n",
       "      <td>1.0</td>\n",
       "      <td>2.0</td>\n",
       "      <td>3.0</td>\n",
       "      <td>4.0</td>\n",
       "      <td>5.0</td>\n",
       "      <td>6.0</td>\n",
       "      <td>7.0</td>\n",
       "      <td>8.0</td>\n",
       "      <td>...</td>\n",
       "      <td>0.0</td>\n",
       "      <td>0.0</td>\n",
       "      <td>0.0</td>\n",
       "      <td>0.0</td>\n",
       "      <td>0.0</td>\n",
       "      <td>0.0</td>\n",
       "      <td>NaN</td>\n",
       "      <td>NaN</td>\n",
       "      <td>NaN</td>\n",
       "      <td>NaN</td>\n",
       "    </tr>\n",
       "  </tbody>\n",
       "</table>\n",
       "<p>3 rows × 1351 columns</p>\n",
       "</div>"
      ],
      "text/plain": [
       "        ACC  CAMP_0  CAMP_1  CAMP_2  CAMP_3  CAMP_4  CAMP_5  CAMP_6  CAMP_7  \\\n",
       "0  C0100006     0.0     1.0     2.0     3.0     4.0     5.0     6.0     7.0   \n",
       "1  C0100010     0.0     1.0     2.0     3.0     4.0     5.0     6.0     7.0   \n",
       "2  C0100048     0.0     1.0     2.0     3.0     4.0     5.0     6.0     7.0   \n",
       "\n",
       "   CAMP_8    ...      DL_T19_35  DL_T19_36  DL_T19_37  DL_T19_38  DL_T19_39  \\\n",
       "0     8.0    ...            0.0        0.0        0.0        0.0        0.0   \n",
       "1     8.0    ...            NaN        NaN        NaN        NaN        NaN   \n",
       "2     8.0    ...            0.0        0.0        0.0        0.0        0.0   \n",
       "\n",
       "   DL_T19_40  DL_T19_41  DL_T19_42  DL_T19_43  DL_T19_44  \n",
       "0        0.0        0.0        0.0        0.0        0.0  \n",
       "1        NaN        NaN        NaN        NaN        NaN  \n",
       "2        0.0        NaN        NaN        NaN        NaN  \n",
       "\n",
       "[3 rows x 1351 columns]"
      ]
     },
     "execution_count": 11,
     "metadata": {},
     "output_type": "execute_result"
    }
   ],
   "source": [
    "data.head(3)"
   ]
  },
  {
   "cell_type": "code",
   "execution_count": 12,
   "metadata": {},
   "outputs": [
    {
     "name": "stdout",
     "output_type": "stream",
     "text": [
      "Wall time: 1min 46s\n"
     ]
    }
   ],
   "source": [
    "%%time\n",
    "data.to_csv('DATA/16-18pivot_prep.csv', encoding='utf-8')"
   ]
  },
  {
   "cell_type": "code",
   "execution_count": null,
   "metadata": {},
   "outputs": [],
   "source": []
  }
 ],
 "metadata": {
  "kernelspec": {
   "display_name": "Python 3",
   "language": "python",
   "name": "python3"
  },
  "language_info": {
   "codemirror_mode": {
    "name": "ipython",
    "version": 3
   },
   "file_extension": ".py",
   "mimetype": "text/x-python",
   "name": "python",
   "nbconvert_exporter": "python",
   "pygments_lexer": "ipython3",
   "version": "3.6.4"
  }
 },
 "nbformat": 4,
 "nbformat_minor": 2
}
