{
 "cells": [
  {
   "cell_type": "code",
   "execution_count": 1,
   "metadata": {},
   "outputs": [],
   "source": [
    "import pandas as pd\n",
    "import numpy as np\n",
    "import matplotlib.pyplot as plt\n",
    "from matplotlib import pyplot\n",
    "import seaborn as sns\n",
    "\n",
    "%matplotlib inline\n",
    "from sklearn.metrics import mean_squared_log_error\n",
    "from sklearn.metrics import accuracy_score\n",
    "from sklearn.ensemble import RandomForestRegressor\n",
    "\n",
    "from lightgbm import LGBMClassifier\n",
    "import warnings\n",
    "warnings.filterwarnings('ignore')"
   ]
  },
  {
   "cell_type": "code",
   "execution_count": 2,
   "metadata": {},
   "outputs": [
    {
     "name": "stdout",
     "output_type": "stream",
     "text": [
      "Wall time: 22.9 s\n"
     ]
    }
   ],
   "source": [
    "%%time\n",
    "data = pd.read_csv('DATA/16-18pivot_prep.csv')\n",
    "data.drop(['Unnamed: 0'], axis=1,inplace = True)\n",
    "data.\n"
   ]
  },
  {
   "cell_type": "code",
   "execution_count": 3,
   "metadata": {},
   "outputs": [
    {
     "name": "stdout",
     "output_type": "stream",
     "text": [
      "<class 'pandas.core.frame.DataFrame'>\n",
      "Int64Index: 12910 entries, 0 to 131078\n",
      "Data columns (total 2 columns):\n",
      "ACC        12910 non-null object\n",
      "CAMP_44    12910 non-null float64\n",
      "dtypes: float64(1), object(1)\n",
      "memory usage: 302.6+ KB\n"
     ]
    }
   ],
   "source": [
    "#save numbers of stuff existed in 44 camp\n",
    "acc_numbers = data[['ACC', 'CAMP_44']].dropna()\n",
    "acc_numbers.info()"
   ]
  },
  {
   "cell_type": "code",
   "execution_count": 4,
   "metadata": {},
   "outputs": [
    {
     "data": {
      "text/html": [
       "<div>\n",
       "<style scoped>\n",
       "    .dataframe tbody tr th:only-of-type {\n",
       "        vertical-align: middle;\n",
       "    }\n",
       "\n",
       "    .dataframe tbody tr th {\n",
       "        vertical-align: top;\n",
       "    }\n",
       "\n",
       "    .dataframe thead th {\n",
       "        text-align: right;\n",
       "    }\n",
       "</style>\n",
       "<table border=\"1\" class=\"dataframe\">\n",
       "  <thead>\n",
       "    <tr style=\"text-align: right;\">\n",
       "      <th></th>\n",
       "      <th>ACC</th>\n",
       "      <th>CAMP_0</th>\n",
       "      <th>CAMP_1</th>\n",
       "      <th>CAMP_2</th>\n",
       "      <th>CAMP_3</th>\n",
       "      <th>CAMP_4</th>\n",
       "      <th>CAMP_5</th>\n",
       "      <th>CAMP_6</th>\n",
       "      <th>CAMP_7</th>\n",
       "      <th>CAMP_8</th>\n",
       "      <th>...</th>\n",
       "      <th>DL_T19_35</th>\n",
       "      <th>DL_T19_36</th>\n",
       "      <th>DL_T19_37</th>\n",
       "      <th>DL_T19_38</th>\n",
       "      <th>DL_T19_39</th>\n",
       "      <th>DL_T19_40</th>\n",
       "      <th>DL_T19_41</th>\n",
       "      <th>DL_T19_42</th>\n",
       "      <th>DL_T19_43</th>\n",
       "      <th>DL_T19_44</th>\n",
       "    </tr>\n",
       "  </thead>\n",
       "  <tbody>\n",
       "    <tr>\n",
       "      <th>0</th>\n",
       "      <td>C0100006</td>\n",
       "      <td>0.0</td>\n",
       "      <td>1.0</td>\n",
       "      <td>2.0</td>\n",
       "      <td>3.0</td>\n",
       "      <td>4.0</td>\n",
       "      <td>5.0</td>\n",
       "      <td>6.0</td>\n",
       "      <td>7.0</td>\n",
       "      <td>8.0</td>\n",
       "      <td>...</td>\n",
       "      <td>0.0</td>\n",
       "      <td>0.0</td>\n",
       "      <td>0.0</td>\n",
       "      <td>0.0</td>\n",
       "      <td>0.0</td>\n",
       "      <td>0.0</td>\n",
       "      <td>0.0</td>\n",
       "      <td>0.0</td>\n",
       "      <td>0.0</td>\n",
       "      <td>0.0</td>\n",
       "    </tr>\n",
       "    <tr>\n",
       "      <th>1</th>\n",
       "      <td>C0100010</td>\n",
       "      <td>0.0</td>\n",
       "      <td>1.0</td>\n",
       "      <td>2.0</td>\n",
       "      <td>3.0</td>\n",
       "      <td>4.0</td>\n",
       "      <td>5.0</td>\n",
       "      <td>6.0</td>\n",
       "      <td>7.0</td>\n",
       "      <td>8.0</td>\n",
       "      <td>...</td>\n",
       "      <td>NaN</td>\n",
       "      <td>NaN</td>\n",
       "      <td>NaN</td>\n",
       "      <td>NaN</td>\n",
       "      <td>NaN</td>\n",
       "      <td>NaN</td>\n",
       "      <td>NaN</td>\n",
       "      <td>NaN</td>\n",
       "      <td>NaN</td>\n",
       "      <td>NaN</td>\n",
       "    </tr>\n",
       "    <tr>\n",
       "      <th>2</th>\n",
       "      <td>C0100048</td>\n",
       "      <td>0.0</td>\n",
       "      <td>1.0</td>\n",
       "      <td>2.0</td>\n",
       "      <td>3.0</td>\n",
       "      <td>4.0</td>\n",
       "      <td>5.0</td>\n",
       "      <td>6.0</td>\n",
       "      <td>7.0</td>\n",
       "      <td>8.0</td>\n",
       "      <td>...</td>\n",
       "      <td>0.0</td>\n",
       "      <td>0.0</td>\n",
       "      <td>0.0</td>\n",
       "      <td>0.0</td>\n",
       "      <td>0.0</td>\n",
       "      <td>0.0</td>\n",
       "      <td>NaN</td>\n",
       "      <td>NaN</td>\n",
       "      <td>NaN</td>\n",
       "      <td>NaN</td>\n",
       "    </tr>\n",
       "    <tr>\n",
       "      <th>3</th>\n",
       "      <td>C0100052</td>\n",
       "      <td>0.0</td>\n",
       "      <td>1.0</td>\n",
       "      <td>2.0</td>\n",
       "      <td>3.0</td>\n",
       "      <td>4.0</td>\n",
       "      <td>5.0</td>\n",
       "      <td>6.0</td>\n",
       "      <td>7.0</td>\n",
       "      <td>8.0</td>\n",
       "      <td>...</td>\n",
       "      <td>0.0</td>\n",
       "      <td>0.0</td>\n",
       "      <td>0.0</td>\n",
       "      <td>0.0</td>\n",
       "      <td>0.0</td>\n",
       "      <td>0.0</td>\n",
       "      <td>0.0</td>\n",
       "      <td>0.0</td>\n",
       "      <td>0.0</td>\n",
       "      <td>0.0</td>\n",
       "    </tr>\n",
       "    <tr>\n",
       "      <th>4</th>\n",
       "      <td>C0100062</td>\n",
       "      <td>0.0</td>\n",
       "      <td>1.0</td>\n",
       "      <td>2.0</td>\n",
       "      <td>3.0</td>\n",
       "      <td>4.0</td>\n",
       "      <td>5.0</td>\n",
       "      <td>6.0</td>\n",
       "      <td>7.0</td>\n",
       "      <td>8.0</td>\n",
       "      <td>...</td>\n",
       "      <td>NaN</td>\n",
       "      <td>NaN</td>\n",
       "      <td>NaN</td>\n",
       "      <td>NaN</td>\n",
       "      <td>NaN</td>\n",
       "      <td>NaN</td>\n",
       "      <td>NaN</td>\n",
       "      <td>NaN</td>\n",
       "      <td>NaN</td>\n",
       "      <td>NaN</td>\n",
       "    </tr>\n",
       "  </tbody>\n",
       "</table>\n",
       "<p>5 rows × 1351 columns</p>\n",
       "</div>"
      ],
      "text/plain": [
       "        ACC  CAMP_0  CAMP_1  CAMP_2  CAMP_3  CAMP_4  CAMP_5  CAMP_6  CAMP_7  \\\n",
       "0  C0100006     0.0     1.0     2.0     3.0     4.0     5.0     6.0     7.0   \n",
       "1  C0100010     0.0     1.0     2.0     3.0     4.0     5.0     6.0     7.0   \n",
       "2  C0100048     0.0     1.0     2.0     3.0     4.0     5.0     6.0     7.0   \n",
       "3  C0100052     0.0     1.0     2.0     3.0     4.0     5.0     6.0     7.0   \n",
       "4  C0100062     0.0     1.0     2.0     3.0     4.0     5.0     6.0     7.0   \n",
       "\n",
       "   CAMP_8    ...      DL_T19_35  DL_T19_36  DL_T19_37  DL_T19_38  DL_T19_39  \\\n",
       "0     8.0    ...            0.0        0.0        0.0        0.0        0.0   \n",
       "1     8.0    ...            NaN        NaN        NaN        NaN        NaN   \n",
       "2     8.0    ...            0.0        0.0        0.0        0.0        0.0   \n",
       "3     8.0    ...            0.0        0.0        0.0        0.0        0.0   \n",
       "4     8.0    ...            NaN        NaN        NaN        NaN        NaN   \n",
       "\n",
       "   DL_T19_40  DL_T19_41  DL_T19_42  DL_T19_43  DL_T19_44  \n",
       "0        0.0        0.0        0.0        0.0        0.0  \n",
       "1        NaN        NaN        NaN        NaN        NaN  \n",
       "2        0.0        NaN        NaN        NaN        NaN  \n",
       "3        0.0        0.0        0.0        0.0        0.0  \n",
       "4        NaN        NaN        NaN        NaN        NaN  \n",
       "\n",
       "[5 rows x 1351 columns]"
      ]
     },
     "execution_count": 4,
     "metadata": {},
     "output_type": "execute_result"
    }
   ],
   "source": [
    "data[['LVL_0','LVL_1', 'LVL_2', 'LVL_3', 'LVL_4', 'LVL_5', 'LVL_6', 'LVL_7', 'LVL_8', 'LVL_9', 'LVL_10', 'LVL_11', 'LVL_12', 'LVL_13', 'LVL_14', 'LVL_15', 'LVL_16', 'LVL_17', 'LVL_18', 'LVL_19', 'LVL_20', 'LVL_21', 'LVL_22', 'LVL_23', 'LVL_24', 'LVL_25', 'LVL_26', 'LVL_27', 'LVL_28', 'LVL_29', 'LVL_30', 'LVL_31', 'LVL_32', 'LVL_33', 'LVL_34', 'LVL_35', 'LVL_36', 'LVL_37', 'LVL_38', 'LVL_39', 'LVL_40', 'LVL_41', 'LVL_42', 'LVL_43', 'LVL_44']] = data[['LVL_0','LVL_1', 'LVL_2', 'LVL_3', 'LVL_4', 'LVL_5', 'LVL_6', 'LVL_7', 'LVL_8', 'LVL_9', 'LVL_10', 'LVL_11', 'LVL_12', 'LVL_13', 'LVL_14', 'LVL_15', 'LVL_16', 'LVL_17', 'LVL_18', 'LVL_19', 'LVL_20', 'LVL_21', 'LVL_22', 'LVL_23', 'LVL_24', 'LVL_25', 'LVL_26', 'LVL_27', 'LVL_28', 'LVL_29', 'LVL_30', 'LVL_31', 'LVL_32', 'LVL_33', 'LVL_34', 'LVL_35', 'LVL_36', 'LVL_37', 'LVL_38', 'LVL_39', 'LVL_40', 'LVL_41', 'LVL_42', 'LVL_43', 'LVL_44'\n",
    "                    ]].fillna(value=0)\n",
    "data.head()"
   ]
  },
  {
   "cell_type": "code",
   "execution_count": 5,
   "metadata": {},
   "outputs": [],
   "source": [
    "data = data.assign(ACC=(data['ACC']).astype('category').cat.codes)"
   ]
  },
  {
   "cell_type": "code",
   "execution_count": 6,
   "metadata": {},
   "outputs": [],
   "source": [
    "'''def rmsle(ytrue, ypred):\n",
    "    return np.sqrt(mean_squared_log_error(ytrue, ypred))'''\n",
    "def rmsle(y_true,y_pred):\n",
    "    return accuracy_score(y_true, y_pred)\n",
    "    "
   ]
  },
  {
   "cell_type": "code",
   "execution_count": 7,
   "metadata": {},
   "outputs": [],
   "source": [
    "def plot_difference(df1, df2, camp):\n",
    "    \n",
    "    grouped = df1.groupby(df1).count()\n",
    "    grouped2 = df2.groupby(df2).count()\n",
    "    result = pd.DataFrame(grouped)\n",
    "    result2 = pd.DataFrame(grouped2)\n",
    "    \n",
    "    result.columns = ['count']\n",
    "    result['lvl'] = result.index\n",
    "    result['values'] = 'actual'\n",
    "    \n",
    "    result2.columns = ['count']\n",
    "    result2['lvl'] = result2.index\n",
    "    result2['values'] = 'prediction'\n",
    "    \n",
    "    result_r = pd.concat([result, result2])\n",
    "    \n",
    "    import seaborn as sns\n",
    "    sns.set(style=\"whitegrid\")\n",
    "\n",
    "\n",
    "    # Draw a nested barplot to show survival for class and sex\n",
    "    g = sns.catplot(x=\"lvl\", y=\"count\", hue=\"values\", data=result_r,\n",
    "                height=8, kind=\"bar\", palette=\"muted\",  aspect=1.8)\n",
    "    g.despine(left=True)\n",
    "    g.set_ylabels(camp)\n",
    "    \n",
    "    return "
   ]
  },
  {
   "cell_type": "code",
   "execution_count": 8,
   "metadata": {},
   "outputs": [
    {
     "name": "stdout",
     "output_type": "stream",
     "text": [
      "Wall time: 678 ms\n"
     ]
    }
   ],
   "source": [
    "%%time\n",
    "data2 = data.copy()\n",
    "'''data2['prev_level'] = data2.groupby(['ACC'])['LVL'].shift()\n",
    "data2['prev_level_diff'] = data2.groupby(['ACC'])['prev_level'].diff()\n",
    "data2 = data2.dropna()\n",
    "data2.head()'''"
   ]
  },
  {
   "cell_type": "code",
   "execution_count": 9,
   "metadata": {},
   "outputs": [
    {
     "data": {
      "text/plain": [
       "\"Y_43 = data2['LVL_43']\\ncols = [c for c in data2.columns if c.lower()[-2:] != '43']\\ndata2 = data2[cols]\""
      ]
     },
     "execution_count": 9,
     "metadata": {},
     "output_type": "execute_result"
    }
   ],
   "source": [
    "Y_44 = data2['LVL_44']\n",
    "cols = [c for c in data2.columns if c.lower()[-2:] != '44']\n",
    "data2 = data2[cols]\n",
    "\n",
    "'''Y_43 = data2['LVL_43']\n",
    "cols = [c for c in data2.columns if c.lower()[-2:] != '43']\n",
    "data2 = data2[cols]'''\n"
   ]
  },
  {
   "cell_type": "code",
   "execution_count": 10,
   "metadata": {},
   "outputs": [],
   "source": [
    "colmns = data2.columns # save columns names for inference"
   ]
  },
  {
   "cell_type": "code",
   "execution_count": 120,
   "metadata": {},
   "outputs": [
    {
     "data": {
      "text/plain": [
       "Index(['ACC', 'CAMP_0', 'CAMP_1', 'CAMP_2', 'CAMP_3', 'CAMP_4', 'CAMP_5',\n",
       "       'CAMP_6', 'CAMP_7', 'CAMP_8',\n",
       "       ...\n",
       "       'DL_T19_34', 'DL_T19_35', 'DL_T19_36', 'DL_T19_37', 'DL_T19_38',\n",
       "       'DL_T19_39', 'DL_T19_40', 'DL_T19_41', 'DL_T19_42', 'DL_T19_43'],\n",
       "      dtype='object', length=1321)"
      ]
     },
     "execution_count": 120,
     "metadata": {},
     "output_type": "execute_result"
    }
   ],
   "source": [
    "colmns"
   ]
  },
  {
   "cell_type": "code",
   "execution_count": 89,
   "metadata": {},
   "outputs": [
    {
     "data": {
      "text/plain": [
       "Index(['ACC', 'CAMP_0', 'CAMP_1', 'CAMP_2', 'CAMP_3', 'CAMP_4', 'CAMP_5',\n",
       "       'CAMP_6', 'CAMP_7', 'CAMP_8',\n",
       "       ...\n",
       "       'DL_T19_34', 'DL_T19_35', 'DL_T19_36', 'DL_T19_37', 'DL_T19_38',\n",
       "       'DL_T19_39', 'DL_T19_40', 'DL_T19_41', 'DL_T19_42', 'DL_T19_43'],\n",
       "      dtype='object', length=1321)"
      ]
     },
     "execution_count": 89,
     "metadata": {},
     "output_type": "execute_result"
    }
   ],
   "source": [
    "data2.columns"
   ]
  },
  {
   "cell_type": "code",
   "execution_count": 50,
   "metadata": {},
   "outputs": [],
   "source": [
    "data2.columns = colmns"
   ]
  },
  {
   "cell_type": "code",
   "execution_count": 17,
   "metadata": {},
   "outputs": [
    {
     "data": {
      "text/plain": [
       "\"%%time\\nmean_error = []\\n#for camp in range(34,44):\\n#train = data2#[data2['CAMP'] < camp]\\n#val = data2#[data2['CAMP'] == camp]\\n\\n#LVL_44'], axis=1), val.drop(['LVL_44'], axis=1)\\n#ytr, yts = train['LVL_44'].values, val['LVL_44'].values\\n#data2 = data2.drop(['LVL_43'], axis=1)\\nmdl = LGBMClassifier(n_estimators=100, learning_rate=0.01)\\nmdl.fit(data2, Y_44)\\n\\n\""
      ]
     },
     "execution_count": 17,
     "metadata": {},
     "output_type": "execute_result"
    }
   ],
   "source": [
    "'''%%time\n",
    "mean_error = []\n",
    "#for camp in range(34,44):\n",
    "#train = data2#[data2['CAMP'] < camp]\n",
    "#val = data2#[data2['CAMP'] == camp]\n",
    "\n",
    "#LVL_44'], axis=1), val.drop(['LVL_44'], axis=1)\n",
    "#ytr, yts = train['LVL_44'].values, val['LVL_44'].values\n",
    "#data2 = data2.drop(['LVL_43'], axis=1)\n",
    "mdl = LGBMClassifier(n_estimators=100, learning_rate=0.01)\n",
    "mdl.fit(data2, Y_44)\n",
    "\n",
    "'''\n"
   ]
  },
  {
   "cell_type": "code",
   "execution_count": 11,
   "metadata": {},
   "outputs": [],
   "source": [
    "data2 = data2.dropna()"
   ]
  },
  {
   "cell_type": "code",
   "execution_count": 12,
   "metadata": {},
   "outputs": [
    {
     "ename": "XGBoostError",
     "evalue": "b'[22:32:31] src/objective/multiclass_obj.cc:43: Check failed: preds.size() == (static_cast<size_t>(param_.num_class) * info.labels.size()) SoftmaxMultiClassObj: label size and pred size does not match'",
     "output_type": "error",
     "traceback": [
      "\u001b[1;31m---------------------------------------------------------------------------\u001b[0m",
      "\u001b[1;31mXGBoostError\u001b[0m                              Traceback (most recent call last)",
      "\u001b[1;32m<timed exec>\u001b[0m in \u001b[0;36m<module>\u001b[1;34m()\u001b[0m\n",
      "\u001b[1;32mC:\\ProgramData\\Anaconda3\\lib\\site-packages\\xgboost\\sklearn.py\u001b[0m in \u001b[0;36mfit\u001b[1;34m(self, X, y, sample_weight, eval_set, eval_metric, early_stopping_rounds, verbose)\u001b[0m\n\u001b[0;32m    443\u001b[0m                               \u001b[0mearly_stopping_rounds\u001b[0m\u001b[1;33m=\u001b[0m\u001b[0mearly_stopping_rounds\u001b[0m\u001b[1;33m,\u001b[0m\u001b[1;33m\u001b[0m\u001b[0m\n\u001b[0;32m    444\u001b[0m                               \u001b[0mevals_result\u001b[0m\u001b[1;33m=\u001b[0m\u001b[0mevals_result\u001b[0m\u001b[1;33m,\u001b[0m \u001b[0mobj\u001b[0m\u001b[1;33m=\u001b[0m\u001b[0mobj\u001b[0m\u001b[1;33m,\u001b[0m \u001b[0mfeval\u001b[0m\u001b[1;33m=\u001b[0m\u001b[0mfeval\u001b[0m\u001b[1;33m,\u001b[0m\u001b[1;33m\u001b[0m\u001b[0m\n\u001b[1;32m--> 445\u001b[1;33m                               verbose_eval=verbose)\n\u001b[0m\u001b[0;32m    446\u001b[0m \u001b[1;33m\u001b[0m\u001b[0m\n\u001b[0;32m    447\u001b[0m         \u001b[0mself\u001b[0m\u001b[1;33m.\u001b[0m\u001b[0mobjective\u001b[0m \u001b[1;33m=\u001b[0m \u001b[0mxgb_options\u001b[0m\u001b[1;33m[\u001b[0m\u001b[1;34m\"objective\"\u001b[0m\u001b[1;33m]\u001b[0m\u001b[1;33m\u001b[0m\u001b[0m\n",
      "\u001b[1;32mC:\\ProgramData\\Anaconda3\\lib\\site-packages\\xgboost\\training.py\u001b[0m in \u001b[0;36mtrain\u001b[1;34m(params, dtrain, num_boost_round, evals, obj, feval, maximize, early_stopping_rounds, evals_result, verbose_eval, learning_rates, xgb_model, callbacks)\u001b[0m\n\u001b[0;32m    203\u001b[0m                            \u001b[0mevals\u001b[0m\u001b[1;33m=\u001b[0m\u001b[0mevals\u001b[0m\u001b[1;33m,\u001b[0m\u001b[1;33m\u001b[0m\u001b[0m\n\u001b[0;32m    204\u001b[0m                            \u001b[0mobj\u001b[0m\u001b[1;33m=\u001b[0m\u001b[0mobj\u001b[0m\u001b[1;33m,\u001b[0m \u001b[0mfeval\u001b[0m\u001b[1;33m=\u001b[0m\u001b[0mfeval\u001b[0m\u001b[1;33m,\u001b[0m\u001b[1;33m\u001b[0m\u001b[0m\n\u001b[1;32m--> 205\u001b[1;33m                            xgb_model=xgb_model, callbacks=callbacks)\n\u001b[0m\u001b[0;32m    206\u001b[0m \u001b[1;33m\u001b[0m\u001b[0m\n\u001b[0;32m    207\u001b[0m \u001b[1;33m\u001b[0m\u001b[0m\n",
      "\u001b[1;32mC:\\ProgramData\\Anaconda3\\lib\\site-packages\\xgboost\\training.py\u001b[0m in \u001b[0;36m_train_internal\u001b[1;34m(params, dtrain, num_boost_round, evals, obj, feval, xgb_model, callbacks)\u001b[0m\n\u001b[0;32m     74\u001b[0m         \u001b[1;31m# Skip the first update if it is a recovery step.\u001b[0m\u001b[1;33m\u001b[0m\u001b[1;33m\u001b[0m\u001b[0m\n\u001b[0;32m     75\u001b[0m         \u001b[1;32mif\u001b[0m \u001b[0mversion\u001b[0m \u001b[1;33m%\u001b[0m \u001b[1;36m2\u001b[0m \u001b[1;33m==\u001b[0m \u001b[1;36m0\u001b[0m\u001b[1;33m:\u001b[0m\u001b[1;33m\u001b[0m\u001b[0m\n\u001b[1;32m---> 76\u001b[1;33m             \u001b[0mbst\u001b[0m\u001b[1;33m.\u001b[0m\u001b[0mupdate\u001b[0m\u001b[1;33m(\u001b[0m\u001b[0mdtrain\u001b[0m\u001b[1;33m,\u001b[0m \u001b[0mi\u001b[0m\u001b[1;33m,\u001b[0m \u001b[0mobj\u001b[0m\u001b[1;33m)\u001b[0m\u001b[1;33m\u001b[0m\u001b[0m\n\u001b[0m\u001b[0;32m     77\u001b[0m             \u001b[0mbst\u001b[0m\u001b[1;33m.\u001b[0m\u001b[0msave_rabit_checkpoint\u001b[0m\u001b[1;33m(\u001b[0m\u001b[1;33m)\u001b[0m\u001b[1;33m\u001b[0m\u001b[0m\n\u001b[0;32m     78\u001b[0m             \u001b[0mversion\u001b[0m \u001b[1;33m+=\u001b[0m \u001b[1;36m1\u001b[0m\u001b[1;33m\u001b[0m\u001b[0m\n",
      "\u001b[1;32mC:\\ProgramData\\Anaconda3\\lib\\site-packages\\xgboost\\core.py\u001b[0m in \u001b[0;36mupdate\u001b[1;34m(self, dtrain, iteration, fobj)\u001b[0m\n\u001b[0;32m    804\u001b[0m \u001b[1;33m\u001b[0m\u001b[0m\n\u001b[0;32m    805\u001b[0m         \u001b[1;32mif\u001b[0m \u001b[0mfobj\u001b[0m \u001b[1;32mis\u001b[0m \u001b[1;32mNone\u001b[0m\u001b[1;33m:\u001b[0m\u001b[1;33m\u001b[0m\u001b[0m\n\u001b[1;32m--> 806\u001b[1;33m             \u001b[0m_check_call\u001b[0m\u001b[1;33m(\u001b[0m\u001b[0m_LIB\u001b[0m\u001b[1;33m.\u001b[0m\u001b[0mXGBoosterUpdateOneIter\u001b[0m\u001b[1;33m(\u001b[0m\u001b[0mself\u001b[0m\u001b[1;33m.\u001b[0m\u001b[0mhandle\u001b[0m\u001b[1;33m,\u001b[0m \u001b[0miteration\u001b[0m\u001b[1;33m,\u001b[0m \u001b[0mdtrain\u001b[0m\u001b[1;33m.\u001b[0m\u001b[0mhandle\u001b[0m\u001b[1;33m)\u001b[0m\u001b[1;33m)\u001b[0m\u001b[1;33m\u001b[0m\u001b[0m\n\u001b[0m\u001b[0;32m    807\u001b[0m         \u001b[1;32melse\u001b[0m\u001b[1;33m:\u001b[0m\u001b[1;33m\u001b[0m\u001b[0m\n\u001b[0;32m    808\u001b[0m             \u001b[0mpred\u001b[0m \u001b[1;33m=\u001b[0m \u001b[0mself\u001b[0m\u001b[1;33m.\u001b[0m\u001b[0mpredict\u001b[0m\u001b[1;33m(\u001b[0m\u001b[0mdtrain\u001b[0m\u001b[1;33m)\u001b[0m\u001b[1;33m\u001b[0m\u001b[0m\n",
      "\u001b[1;32mC:\\ProgramData\\Anaconda3\\lib\\site-packages\\xgboost\\core.py\u001b[0m in \u001b[0;36m_check_call\u001b[1;34m(ret)\u001b[0m\n\u001b[0;32m    125\u001b[0m     \"\"\"\n\u001b[0;32m    126\u001b[0m     \u001b[1;32mif\u001b[0m \u001b[0mret\u001b[0m \u001b[1;33m!=\u001b[0m \u001b[1;36m0\u001b[0m\u001b[1;33m:\u001b[0m\u001b[1;33m\u001b[0m\u001b[0m\n\u001b[1;32m--> 127\u001b[1;33m         \u001b[1;32mraise\u001b[0m \u001b[0mXGBoostError\u001b[0m\u001b[1;33m(\u001b[0m\u001b[0m_LIB\u001b[0m\u001b[1;33m.\u001b[0m\u001b[0mXGBGetLastError\u001b[0m\u001b[1;33m(\u001b[0m\u001b[1;33m)\u001b[0m\u001b[1;33m)\u001b[0m\u001b[1;33m\u001b[0m\u001b[0m\n\u001b[0m\u001b[0;32m    128\u001b[0m \u001b[1;33m\u001b[0m\u001b[0m\n\u001b[0;32m    129\u001b[0m \u001b[1;33m\u001b[0m\u001b[0m\n",
      "\u001b[1;31mXGBoostError\u001b[0m: b'[22:32:31] src/objective/multiclass_obj.cc:43: Check failed: preds.size() == (static_cast<size_t>(param_.num_class) * info.labels.size()) SoftmaxMultiClassObj: label size and pred size does not match'"
     ]
    }
   ],
   "source": [
    "\n",
    "%%time\n",
    "import xgboost as xgb\n",
    "#train = data2[data2['CAMP'] <= 44]\n",
    "\n",
    "#xtr = train.drop(['LVL'], axis=1)\n",
    "#ytr = train['LVL'].values\n",
    "params = {'n_estimators': 1000,\n",
    "          'learning_rate': 0.01,\n",
    "          'max_depth': 5,\n",
    "          'min_child_weight': 1,\n",
    "          'subsample': 0.8,\n",
    "          'colsample_bytree': 0.8}\n",
    "\n",
    "clf_xgb = xgb.XGBClassifier(**params)\n",
    "\n",
    "\n",
    "clf_xgb.fit(data2, Y_44)\n",
    "\n"
   ]
  },
  {
   "cell_type": "code",
   "execution_count": 23,
   "metadata": {},
   "outputs": [
    {
     "data": {
      "text/plain": [
       "'p = mdl.predict(data2)\\npredict = pd.Series(p)'"
      ]
     },
     "execution_count": 23,
     "metadata": {},
     "output_type": "execute_result"
    }
   ],
   "source": [
    "'''p = mdl.predict(data2)\n",
    "predict = pd.Series(p)''' #lgbm"
   ]
  },
  {
   "cell_type": "code",
   "execution_count": 94,
   "metadata": {
    "scrolled": true
   },
   "outputs": [
    {
     "name": "stdout",
     "output_type": "stream",
     "text": [
      "Wall time: 5.91 s\n"
     ]
    }
   ],
   "source": [
    "%%time\n",
    "mean_error = []\n",
    "p = clf_xgb.predict(data2)\n",
    "predict = pd.Series(p)\n",
    "\n",
    "#plot_difference(predict, Y_44, 'test')\n",
    "#error = rmsle(Y_44, p)\n",
    "#print('CAMP %d - Accuracy %.5f' % (1, error))\n",
    "#mean_error.append(error)"
   ]
  },
  {
   "cell_type": "code",
   "execution_count": 110,
   "metadata": {
    "scrolled": true
   },
   "outputs": [
    {
     "name": "stdout",
     "output_type": "stream",
     "text": [
      "CAMP 1 - Accuracy 0.94395\n"
     ]
    },
    {
     "data": {
      "image/png": "[encoded data removed]",
      "text/plain": [
       "<Figure size 1124.4x576 with 1 Axes>"
      ]
     },
     "metadata": {},
     "output_type": "display_data"
    }
   ],
   "source": [
    "'''mean_error = []\n",
    "plot_difference(predict, Y_44, 'test')\n",
    "error = rmsle(Y_44, p)\n",
    "print('CAMP %d - Accuracy %.5f' % (1, error))\n",
    "mean_error.append(error)\n",
    "#print('Mean Accuracy = %.5f' % np.mean(mean_error))'''\n"
   ]
  },
  {
   "cell_type": "code",
   "execution_count": 96,
   "metadata": {
    "scrolled": true
   },
   "outputs": [],
   "source": [
    "refined = data[['LVL_44','DL_T19_43']]\n",
    "refined['predict'] = predict\n",
    "refined = refined.dropna()"
   ]
  },
  {
   "cell_type": "code",
   "execution_count": 97,
   "metadata": {},
   "outputs": [
    {
     "data": {
      "text/html": [
       "<div>\n",
       "<style scoped>\n",
       "    .dataframe tbody tr th:only-of-type {\n",
       "        vertical-align: middle;\n",
       "    }\n",
       "\n",
       "    .dataframe tbody tr th {\n",
       "        vertical-align: top;\n",
       "    }\n",
       "\n",
       "    .dataframe thead th {\n",
       "        text-align: right;\n",
       "    }\n",
       "</style>\n",
       "<table border=\"1\" class=\"dataframe\">\n",
       "  <thead>\n",
       "    <tr style=\"text-align: right;\">\n",
       "      <th></th>\n",
       "      <th>LVL_44</th>\n",
       "      <th>DL_T19_43</th>\n",
       "      <th>predict</th>\n",
       "    </tr>\n",
       "  </thead>\n",
       "  <tbody>\n",
       "    <tr>\n",
       "      <th>0</th>\n",
       "      <td>2.0</td>\n",
       "      <td>0.0</td>\n",
       "      <td>0.0</td>\n",
       "    </tr>\n",
       "    <tr>\n",
       "      <th>3</th>\n",
       "      <td>4.0</td>\n",
       "      <td>0.0</td>\n",
       "      <td>0.0</td>\n",
       "    </tr>\n",
       "    <tr>\n",
       "      <th>5</th>\n",
       "      <td>5.0</td>\n",
       "      <td>0.0</td>\n",
       "      <td>0.0</td>\n",
       "    </tr>\n",
       "    <tr>\n",
       "      <th>6</th>\n",
       "      <td>2.0</td>\n",
       "      <td>0.0</td>\n",
       "      <td>0.0</td>\n",
       "    </tr>\n",
       "    <tr>\n",
       "      <th>7</th>\n",
       "      <td>8.0</td>\n",
       "      <td>0.0</td>\n",
       "      <td>0.0</td>\n",
       "    </tr>\n",
       "  </tbody>\n",
       "</table>\n",
       "</div>"
      ],
      "text/plain": [
       "   LVL_44  DL_T19_43  predict\n",
       "0     2.0        0.0      0.0\n",
       "3     4.0        0.0      0.0\n",
       "5     5.0        0.0      0.0\n",
       "6     2.0        0.0      0.0\n",
       "7     8.0        0.0      0.0"
      ]
     },
     "execution_count": 97,
     "metadata": {},
     "output_type": "execute_result"
    }
   ],
   "source": [
    "refined.head(5)"
   ]
  },
  {
   "cell_type": "code",
   "execution_count": null,
   "metadata": {},
   "outputs": [],
   "source": [
    "refined.drop(['DL_T19_43'], axis=1, inplace = True)\n",
    "refined['ACC_N'] = acc_numbers['ACC']\n",
    "refined.info()"
   ]
  },
  {
   "cell_type": "code",
   "execution_count": 70,
   "metadata": {},
   "outputs": [
    {
     "name": "stdout",
     "output_type": "stream",
     "text": [
      "<class 'pandas.core.frame.DataFrame'>\n",
      "RangeIndex: 131498 entries, 0 to 131497\n",
      "Data columns (total 1 columns):\n",
      "LVL_44    131498 non-null float64\n",
      "dtypes: float64(1)\n",
      "memory usage: 1.0 MB\n"
     ]
    }
   ],
   "source": [
    "pd.DataFrame(data['LVL_44']).info()"
   ]
  },
  {
   "cell_type": "code",
   "execution_count": 55,
   "metadata": {},
   "outputs": [],
   "source": [
    "refined.head(5)\n",
    "refined.drop(['LVL_44'], axis=1, inplace = True)"
   ]
  },
  {
   "cell_type": "code",
   "execution_count": 73,
   "metadata": {},
   "outputs": [],
   "source": [
    "Y_44 = data[['LVL_44','CAMP_44']]\n",
    "Y_44 = Y_44.dropna()\n",
    "refined['LVL_44'] = Y_44['LVL_44']"
   ]
  },
  {
   "cell_type": "code",
   "execution_count": 76,
   "metadata": {},
   "outputs": [
    {
     "data": {
      "text/html": [
       "<div>\n",
       "<style scoped>\n",
       "    .dataframe tbody tr th:only-of-type {\n",
       "        vertical-align: middle;\n",
       "    }\n",
       "\n",
       "    .dataframe tbody tr th {\n",
       "        vertical-align: top;\n",
       "    }\n",
       "\n",
       "    .dataframe thead th {\n",
       "        text-align: right;\n",
       "    }\n",
       "</style>\n",
       "<table border=\"1\" class=\"dataframe\">\n",
       "  <thead>\n",
       "    <tr style=\"text-align: right;\">\n",
       "      <th></th>\n",
       "      <th>LVL_44</th>\n",
       "      <th>CAMP_44</th>\n",
       "    </tr>\n",
       "  </thead>\n",
       "  <tbody>\n",
       "    <tr>\n",
       "      <th>0</th>\n",
       "      <td>2.0</td>\n",
       "      <td>44.0</td>\n",
       "    </tr>\n",
       "    <tr>\n",
       "      <th>3</th>\n",
       "      <td>4.0</td>\n",
       "      <td>44.0</td>\n",
       "    </tr>\n",
       "    <tr>\n",
       "      <th>5</th>\n",
       "      <td>5.0</td>\n",
       "      <td>44.0</td>\n",
       "    </tr>\n",
       "    <tr>\n",
       "      <th>6</th>\n",
       "      <td>2.0</td>\n",
       "      <td>44.0</td>\n",
       "    </tr>\n",
       "    <tr>\n",
       "      <th>7</th>\n",
       "      <td>8.0</td>\n",
       "      <td>44.0</td>\n",
       "    </tr>\n",
       "  </tbody>\n",
       "</table>\n",
       "</div>"
      ],
      "text/plain": [
       "   LVL_44  CAMP_44\n",
       "0     2.0     44.0\n",
       "3     4.0     44.0\n",
       "5     5.0     44.0\n",
       "6     2.0     44.0\n",
       "7     8.0     44.0"
      ]
     },
     "execution_count": 76,
     "metadata": {},
     "output_type": "execute_result"
    }
   ],
   "source": [
    "Y_44.head()"
   ]
  },
  {
   "cell_type": "code",
   "execution_count": 74,
   "metadata": {
    "scrolled": false
   },
   "outputs": [
    {
     "data": {
      "image/png": "[encoded data removed]",
      "text/plain": [
       "<Figure size 1124.4x576 with 1 Axes>"
      ]
     },
     "metadata": {},
     "output_type": "display_data"
    }
   ],
   "source": [
    "plot_difference(refined['predict'], refined['LVL_44'], 'test')\n",
    "#accuracy_score(refined['LVL_44'], refined['predict'])"
   ]
  },
  {
   "cell_type": "code",
   "execution_count": 99,
   "metadata": {},
   "outputs": [
    {
     "data": {
      "text/html": [
       "<div>\n",
       "<style scoped>\n",
       "    .dataframe tbody tr th:only-of-type {\n",
       "        vertical-align: middle;\n",
       "    }\n",
       "\n",
       "    .dataframe tbody tr th {\n",
       "        vertical-align: top;\n",
       "    }\n",
       "\n",
       "    .dataframe thead th {\n",
       "        text-align: right;\n",
       "    }\n",
       "</style>\n",
       "<table border=\"1\" class=\"dataframe\">\n",
       "  <thead>\n",
       "    <tr style=\"text-align: right;\">\n",
       "      <th></th>\n",
       "      <th>LVL_44</th>\n",
       "      <th>DL_T19_43</th>\n",
       "      <th>predict</th>\n",
       "    </tr>\n",
       "  </thead>\n",
       "  <tbody>\n",
       "    <tr>\n",
       "      <th>count</th>\n",
       "      <td>5367.000000</td>\n",
       "      <td>5367.0</td>\n",
       "      <td>5367.0</td>\n",
       "    </tr>\n",
       "    <tr>\n",
       "      <th>mean</th>\n",
       "      <td>2.606298</td>\n",
       "      <td>0.0</td>\n",
       "      <td>0.0</td>\n",
       "    </tr>\n",
       "    <tr>\n",
       "      <th>std</th>\n",
       "      <td>2.385082</td>\n",
       "      <td>0.0</td>\n",
       "      <td>0.0</td>\n",
       "    </tr>\n",
       "    <tr>\n",
       "      <th>min</th>\n",
       "      <td>0.000000</td>\n",
       "      <td>0.0</td>\n",
       "      <td>0.0</td>\n",
       "    </tr>\n",
       "    <tr>\n",
       "      <th>25%</th>\n",
       "      <td>0.000000</td>\n",
       "      <td>0.0</td>\n",
       "      <td>0.0</td>\n",
       "    </tr>\n",
       "    <tr>\n",
       "      <th>50%</th>\n",
       "      <td>2.000000</td>\n",
       "      <td>0.0</td>\n",
       "      <td>0.0</td>\n",
       "    </tr>\n",
       "    <tr>\n",
       "      <th>75%</th>\n",
       "      <td>4.000000</td>\n",
       "      <td>0.0</td>\n",
       "      <td>0.0</td>\n",
       "    </tr>\n",
       "    <tr>\n",
       "      <th>max</th>\n",
       "      <td>15.000000</td>\n",
       "      <td>0.0</td>\n",
       "      <td>0.0</td>\n",
       "    </tr>\n",
       "  </tbody>\n",
       "</table>\n",
       "</div>"
      ],
      "text/plain": [
       "            LVL_44  DL_T19_43  predict\n",
       "count  5367.000000     5367.0   5367.0\n",
       "mean      2.606298        0.0      0.0\n",
       "std       2.385082        0.0      0.0\n",
       "min       0.000000        0.0      0.0\n",
       "25%       0.000000        0.0      0.0\n",
       "50%       2.000000        0.0      0.0\n",
       "75%       4.000000        0.0      0.0\n",
       "max      15.000000        0.0      0.0"
      ]
     },
     "execution_count": 99,
     "metadata": {},
     "output_type": "execute_result"
    }
   ],
   "source": [
    "refined.describe()"
   ]
  },
  {
   "cell_type": "code",
   "execution_count": 82,
   "metadata": {
    "scrolled": true
   },
   "outputs": [
    {
     "data": {
      "text/html": [
       "<div>\n",
       "<style scoped>\n",
       "    .dataframe tbody tr th:only-of-type {\n",
       "        vertical-align: middle;\n",
       "    }\n",
       "\n",
       "    .dataframe tbody tr th {\n",
       "        vertical-align: top;\n",
       "    }\n",
       "\n",
       "    .dataframe thead th {\n",
       "        text-align: right;\n",
       "    }\n",
       "</style>\n",
       "<table border=\"1\" class=\"dataframe\">\n",
       "  <thead>\n",
       "    <tr style=\"text-align: right;\">\n",
       "      <th></th>\n",
       "      <th>count</th>\n",
       "      <th>lvl</th>\n",
       "      <th>values</th>\n",
       "    </tr>\n",
       "  </thead>\n",
       "  <tbody>\n",
       "    <tr>\n",
       "      <th>0.0</th>\n",
       "      <td>2926</td>\n",
       "      <td>0.0</td>\n",
       "      <td>prediction</td>\n",
       "    </tr>\n",
       "    <tr>\n",
       "      <th>1.0</th>\n",
       "      <td>956</td>\n",
       "      <td>1.0</td>\n",
       "      <td>prediction</td>\n",
       "    </tr>\n",
       "    <tr>\n",
       "      <th>2.0</th>\n",
       "      <td>1751</td>\n",
       "      <td>2.0</td>\n",
       "      <td>prediction</td>\n",
       "    </tr>\n",
       "    <tr>\n",
       "      <th>3.0</th>\n",
       "      <td>1426</td>\n",
       "      <td>3.0</td>\n",
       "      <td>prediction</td>\n",
       "    </tr>\n",
       "    <tr>\n",
       "      <th>4.0</th>\n",
       "      <td>1274</td>\n",
       "      <td>4.0</td>\n",
       "      <td>prediction</td>\n",
       "    </tr>\n",
       "    <tr>\n",
       "      <th>5.0</th>\n",
       "      <td>1804</td>\n",
       "      <td>5.0</td>\n",
       "      <td>prediction</td>\n",
       "    </tr>\n",
       "    <tr>\n",
       "      <th>6.0</th>\n",
       "      <td>570</td>\n",
       "      <td>6.0</td>\n",
       "      <td>prediction</td>\n",
       "    </tr>\n",
       "    <tr>\n",
       "      <th>7.0</th>\n",
       "      <td>789</td>\n",
       "      <td>7.0</td>\n",
       "      <td>prediction</td>\n",
       "    </tr>\n",
       "    <tr>\n",
       "      <th>8.0</th>\n",
       "      <td>576</td>\n",
       "      <td>8.0</td>\n",
       "      <td>prediction</td>\n",
       "    </tr>\n",
       "    <tr>\n",
       "      <th>9.0</th>\n",
       "      <td>420</td>\n",
       "      <td>9.0</td>\n",
       "      <td>prediction</td>\n",
       "    </tr>\n",
       "    <tr>\n",
       "      <th>10.0</th>\n",
       "      <td>217</td>\n",
       "      <td>10.0</td>\n",
       "      <td>prediction</td>\n",
       "    </tr>\n",
       "    <tr>\n",
       "      <th>11.0</th>\n",
       "      <td>110</td>\n",
       "      <td>11.0</td>\n",
       "      <td>prediction</td>\n",
       "    </tr>\n",
       "    <tr>\n",
       "      <th>12.0</th>\n",
       "      <td>70</td>\n",
       "      <td>12.0</td>\n",
       "      <td>prediction</td>\n",
       "    </tr>\n",
       "    <tr>\n",
       "      <th>13.0</th>\n",
       "      <td>16</td>\n",
       "      <td>13.0</td>\n",
       "      <td>prediction</td>\n",
       "    </tr>\n",
       "    <tr>\n",
       "      <th>14.0</th>\n",
       "      <td>4</td>\n",
       "      <td>14.0</td>\n",
       "      <td>prediction</td>\n",
       "    </tr>\n",
       "    <tr>\n",
       "      <th>15.0</th>\n",
       "      <td>1</td>\n",
       "      <td>15.0</td>\n",
       "      <td>prediction</td>\n",
       "    </tr>\n",
       "    <tr>\n",
       "      <th>0.0</th>\n",
       "      <td>1193</td>\n",
       "      <td>0.0</td>\n",
       "      <td>actual</td>\n",
       "    </tr>\n",
       "    <tr>\n",
       "      <th>1.0</th>\n",
       "      <td>1025</td>\n",
       "      <td>1.0</td>\n",
       "      <td>actual</td>\n",
       "    </tr>\n",
       "    <tr>\n",
       "      <th>2.0</th>\n",
       "      <td>2016</td>\n",
       "      <td>2.0</td>\n",
       "      <td>actual</td>\n",
       "    </tr>\n",
       "    <tr>\n",
       "      <th>3.0</th>\n",
       "      <td>1772</td>\n",
       "      <td>3.0</td>\n",
       "      <td>actual</td>\n",
       "    </tr>\n",
       "    <tr>\n",
       "      <th>4.0</th>\n",
       "      <td>1451</td>\n",
       "      <td>4.0</td>\n",
       "      <td>actual</td>\n",
       "    </tr>\n",
       "    <tr>\n",
       "      <th>5.0</th>\n",
       "      <td>2072</td>\n",
       "      <td>5.0</td>\n",
       "      <td>actual</td>\n",
       "    </tr>\n",
       "    <tr>\n",
       "      <th>6.0</th>\n",
       "      <td>631</td>\n",
       "      <td>6.0</td>\n",
       "      <td>actual</td>\n",
       "    </tr>\n",
       "    <tr>\n",
       "      <th>7.0</th>\n",
       "      <td>884</td>\n",
       "      <td>7.0</td>\n",
       "      <td>actual</td>\n",
       "    </tr>\n",
       "    <tr>\n",
       "      <th>8.0</th>\n",
       "      <td>682</td>\n",
       "      <td>8.0</td>\n",
       "      <td>actual</td>\n",
       "    </tr>\n",
       "    <tr>\n",
       "      <th>9.0</th>\n",
       "      <td>535</td>\n",
       "      <td>9.0</td>\n",
       "      <td>actual</td>\n",
       "    </tr>\n",
       "    <tr>\n",
       "      <th>10.0</th>\n",
       "      <td>325</td>\n",
       "      <td>10.0</td>\n",
       "      <td>actual</td>\n",
       "    </tr>\n",
       "    <tr>\n",
       "      <th>11.0</th>\n",
       "      <td>179</td>\n",
       "      <td>11.0</td>\n",
       "      <td>actual</td>\n",
       "    </tr>\n",
       "    <tr>\n",
       "      <th>12.0</th>\n",
       "      <td>107</td>\n",
       "      <td>12.0</td>\n",
       "      <td>actual</td>\n",
       "    </tr>\n",
       "    <tr>\n",
       "      <th>13.0</th>\n",
       "      <td>32</td>\n",
       "      <td>13.0</td>\n",
       "      <td>actual</td>\n",
       "    </tr>\n",
       "    <tr>\n",
       "      <th>14.0</th>\n",
       "      <td>4</td>\n",
       "      <td>14.0</td>\n",
       "      <td>actual</td>\n",
       "    </tr>\n",
       "    <tr>\n",
       "      <th>15.0</th>\n",
       "      <td>2</td>\n",
       "      <td>15.0</td>\n",
       "      <td>actual</td>\n",
       "    </tr>\n",
       "    <tr>\n",
       "      <th>0.0</th>\n",
       "      <td>2032</td>\n",
       "      <td>0.0</td>\n",
       "      <td>actual</td>\n",
       "    </tr>\n",
       "    <tr>\n",
       "      <th>1.0</th>\n",
       "      <td>814</td>\n",
       "      <td>1.0</td>\n",
       "      <td>actual</td>\n",
       "    </tr>\n",
       "    <tr>\n",
       "      <th>2.0</th>\n",
       "      <td>2101</td>\n",
       "      <td>2.0</td>\n",
       "      <td>actual</td>\n",
       "    </tr>\n",
       "    <tr>\n",
       "      <th>3.0</th>\n",
       "      <td>1530</td>\n",
       "      <td>3.0</td>\n",
       "      <td>actual</td>\n",
       "    </tr>\n",
       "    <tr>\n",
       "      <th>4.0</th>\n",
       "      <td>1413</td>\n",
       "      <td>4.0</td>\n",
       "      <td>actual</td>\n",
       "    </tr>\n",
       "    <tr>\n",
       "      <th>5.0</th>\n",
       "      <td>2126</td>\n",
       "      <td>5.0</td>\n",
       "      <td>actual</td>\n",
       "    </tr>\n",
       "    <tr>\n",
       "      <th>6.0</th>\n",
       "      <td>485</td>\n",
       "      <td>6.0</td>\n",
       "      <td>actual</td>\n",
       "    </tr>\n",
       "    <tr>\n",
       "      <th>7.0</th>\n",
       "      <td>932</td>\n",
       "      <td>7.0</td>\n",
       "      <td>actual</td>\n",
       "    </tr>\n",
       "    <tr>\n",
       "      <th>8.0</th>\n",
       "      <td>626</td>\n",
       "      <td>8.0</td>\n",
       "      <td>actual</td>\n",
       "    </tr>\n",
       "    <tr>\n",
       "      <th>9.0</th>\n",
       "      <td>433</td>\n",
       "      <td>9.0</td>\n",
       "      <td>actual</td>\n",
       "    </tr>\n",
       "    <tr>\n",
       "      <th>10.0</th>\n",
       "      <td>217</td>\n",
       "      <td>10.0</td>\n",
       "      <td>actual</td>\n",
       "    </tr>\n",
       "    <tr>\n",
       "      <th>11.0</th>\n",
       "      <td>110</td>\n",
       "      <td>11.0</td>\n",
       "      <td>actual</td>\n",
       "    </tr>\n",
       "    <tr>\n",
       "      <th>12.0</th>\n",
       "      <td>70</td>\n",
       "      <td>12.0</td>\n",
       "      <td>actual</td>\n",
       "    </tr>\n",
       "    <tr>\n",
       "      <th>13.0</th>\n",
       "      <td>16</td>\n",
       "      <td>13.0</td>\n",
       "      <td>actual</td>\n",
       "    </tr>\n",
       "    <tr>\n",
       "      <th>14.0</th>\n",
       "      <td>4</td>\n",
       "      <td>14.0</td>\n",
       "      <td>actual</td>\n",
       "    </tr>\n",
       "    <tr>\n",
       "      <th>15.0</th>\n",
       "      <td>1</td>\n",
       "      <td>15.0</td>\n",
       "      <td>actual</td>\n",
       "    </tr>\n",
       "  </tbody>\n",
       "</table>\n",
       "</div>"
      ],
      "text/plain": [
       "      count   lvl      values\n",
       "0.0    2926   0.0  prediction\n",
       "1.0     956   1.0  prediction\n",
       "2.0    1751   2.0  prediction\n",
       "3.0    1426   3.0  prediction\n",
       "4.0    1274   4.0  prediction\n",
       "5.0    1804   5.0  prediction\n",
       "6.0     570   6.0  prediction\n",
       "7.0     789   7.0  prediction\n",
       "8.0     576   8.0  prediction\n",
       "9.0     420   9.0  prediction\n",
       "10.0    217  10.0  prediction\n",
       "11.0    110  11.0  prediction\n",
       "12.0     70  12.0  prediction\n",
       "13.0     16  13.0  prediction\n",
       "14.0      4  14.0  prediction\n",
       "15.0      1  15.0  prediction\n",
       "0.0    1193   0.0      actual\n",
       "1.0    1025   1.0      actual\n",
       "2.0    2016   2.0      actual\n",
       "3.0    1772   3.0      actual\n",
       "4.0    1451   4.0      actual\n",
       "5.0    2072   5.0      actual\n",
       "6.0     631   6.0      actual\n",
       "7.0     884   7.0      actual\n",
       "8.0     682   8.0      actual\n",
       "9.0     535   9.0      actual\n",
       "10.0    325  10.0      actual\n",
       "11.0    179  11.0      actual\n",
       "12.0    107  12.0      actual\n",
       "13.0     32  13.0      actual\n",
       "14.0      4  14.0      actual\n",
       "15.0      2  15.0      actual\n",
       "0.0    2032   0.0      actual\n",
       "1.0     814   1.0      actual\n",
       "2.0    2101   2.0      actual\n",
       "3.0    1530   3.0      actual\n",
       "4.0    1413   4.0      actual\n",
       "5.0    2126   5.0      actual\n",
       "6.0     485   6.0      actual\n",
       "7.0     932   7.0      actual\n",
       "8.0     626   8.0      actual\n",
       "9.0     433   9.0      actual\n",
       "10.0    217  10.0      actual\n",
       "11.0    110  11.0      actual\n",
       "12.0     70  12.0      actual\n",
       "13.0     16  13.0      actual\n",
       "14.0      4  14.0      actual\n",
       "15.0      1  15.0      actual"
      ]
     },
     "execution_count": 82,
     "metadata": {},
     "output_type": "execute_result"
    }
   ],
   "source": [
    "result_r"
   ]
  },
  {
   "cell_type": "code",
   "execution_count": 87,
   "metadata": {},
   "outputs": [
    {
     "data": {
      "text/plain": [
       "<seaborn.axisgrid.FacetGrid at 0x1fd8d12cc50>"
      ]
     },
     "execution_count": 87,
     "metadata": {},
     "output_type": "execute_result"
    },
    {
     "data": {
      "image/png": "[encoded data removed]",
      "text/plain": [
       "<Figure size 1124.4x576 with 1 Axes>"
      ]
     },
     "metadata": {},
     "output_type": "display_data"
    }
   ],
   "source": [
    "    grouped = refined['LVL_44'].groupby(refined['LVL_44']).count()\n",
    "    #grouped2 = refined['LVL_43'].groupby(refined['LVL_43']).count()\n",
    "    grouped3 = refined['predict'].groupby(refined['predict']).count()\n",
    "    \n",
    "    result = pd.DataFrame(grouped)\n",
    "    #result2 = pd.DataFrame(grouped2)\n",
    "    result3 = pd.DataFrame(grouped3)\n",
    "    \n",
    "    result.columns = ['count']\n",
    "    result['lvl'] = result.index\n",
    "    result['values'] = 'actual'\n",
    "    \n",
    "''' result2.columns = ['count']\n",
    "    result2['lvl'] = result2.index\n",
    "    result2['values'] = 'previous'''\n",
    "    \n",
    "    result3.columns = ['count']\n",
    "    result3['lvl'] = result3.index\n",
    "    result3['values'] = 'prediction'\n",
    "    \n",
    "    result_r = pd.concat([result, result3]) #, result3])\n",
    "    \n",
    "    import seaborn as sns\n",
    "    sns.set(style=\"whitegrid\")\n",
    "\n",
    "\n",
    "    g = sns.catplot(x=\"lvl\", y=\"count\", hue=\"values\", data=result_r,\n",
    "                height=8, kind=\"bar\", palette=\"muted\",  aspect=1.8)\n",
    "    g.despine(left=True)\n",
    "    #g.set_ylabels(camp)\n",
    "    "
   ]
  },
  {
   "cell_type": "code",
   "execution_count": null,
   "metadata": {},
   "outputs": [],
   "source": [
    "bst = clf_xgb.get_booster()\n",
    "\n",
    "for kind in ['weight', 'gain', 'cover']:\n",
    "    imp = pd.Series(bst.get_score(importance_type=kind))\n",
    "    plt.figure()\n",
    "    imp.sort_values(ascending=False).iloc[:10].plot(kind='barh', title=kind)"
   ]
  },
  {
   "cell_type": "code",
   "execution_count": 69,
   "metadata": {},
   "outputs": [
    {
     "name": "stdout",
     "output_type": "stream",
     "text": [
      "Wall time: 330 ms\n"
     ]
    }
   ],
   "source": [
    "%%time\n",
    "dataset.to_csv('DATA/predict13.csv', encoding='utf-8')"
   ]
  },
  {
   "cell_type": "code",
   "execution_count": null,
   "metadata": {
    "scrolled": true
   },
   "outputs": [
    {
     "name": "stdout",
     "output_type": "stream",
     "text": [
      "CAMP 34 - Accuracy 0.59050\n",
      "CAMP 35 - Accuracy 0.42223\n",
      "CAMP 36 - Accuracy 0.39987\n",
      "CAMP 37 - Accuracy 0.56627\n",
      "CAMP 38 - Accuracy 0.56676\n",
      "CAMP 39 - Accuracy 0.57642\n",
      "CAMP 40 - Accuracy 0.58472\n",
      "CAMP 41 - Accuracy 0.55496\n",
      "CAMP 42 - Accuracy 0.56373\n",
      "CAMP 43 - Accuracy 0.57734\n",
      "Mean Accuracy = 0.54028\n",
      "Wall time: 4.53 s\n"
     ]
    },
    {
     "data": {
      "image/png": "[encoded data removed]",
      "text/plain": [
       "<Figure size 1124.4x576 with 1 Axes>"
      ]
     },
     "metadata": {},
     "output_type": "display_data"
    },
    {
     "data": {
      "image/png": "[encoded data removed]",
      "text/plain": [
       "<Figure size 1124.4x576 with 1 Axes>"
      ]
     },
     "metadata": {},
     "output_type": "display_data"
    },
    {
     "data": {
      "image/png": "[encoded data removed]",
      "text/plain": [
       "<Figure size 1124.4x576 with 1 Axes>"
      ]
     },
     "metadata": {},
     "output_type": "display_data"
    },
    {
     "data": {
      "image/png": "[encoded data removed]",
      "text/plain": [
       "<Figure size 1124.4x576 with 1 Axes>"
      ]
     },
     "metadata": {},
     "output_type": "display_data"
    },
    {
     "data": {
      "image/png": "[encoded data removed]",
      "text/plain": [
       "<Figure size 1124.4x576 with 1 Axes>"
      ]
     },
     "metadata": {},
     "output_type": "display_data"
    },
    {
     "data": {
      "image/png": "[encoded data removed]",
      "text/plain": [
       "<Figure size 1124.4x576 with 1 Axes>"
      ]
     },
     "metadata": {},
     "output_type": "display_data"
    },
    {
     "data": {
      "image/png": "[encoded data removed]",
      "text/plain": [
       "<Figure size 1124.4x576 with 1 Axes>"
      ]
     },
     "metadata": {},
     "output_type": "display_data"
    },
    {
     "data": {
      "image/png": "[encoded data removed]",
      "text/plain": [
       "<Figure size 1124.4x576 with 1 Axes>"
      ]
     },
     "metadata": {},
     "output_type": "display_data"
    },
    {
     "data": {
      "image/png": "[encoded data removed]",
      "text/plain": [
       "<Figure size 1124.4x576 with 1 Axes>"
      ]
     },
     "metadata": {},
     "output_type": "display_data"
    },
    {
     "data": {
      "image/png": "[encoded data removed]",
      "text/plain": [
       "<Figure size 1124.4x576 with 1 Axes>"
      ]
     },
     "metadata": {},
     "output_type": "display_data"
    }
   ],
   "source": [
    "%%time\n",
    "mean_error = []\n",
    "df_mean = pd.DataFrame(columns=['LVL_mean'])\n",
    "for camp in range(34,44):\n",
    "    train = data2[data2['CAMP'] < camp]\n",
    "    val = data2[data2['CAMP'] == camp]\n",
    "    \n",
    "    p = val['prev_level'].values\n",
    "\n",
    "    error = rmsle(val['LVL'].values, p)\n",
    "    plot_difference(val['prev_level'], val['LVL'], camp)\n",
    "    print('CAMP %d - Accuracy %.5f' % (camp, error))\n",
    "    mean_error.append(error)\n",
    "\n",
    "print('Mean Accuracy = %.5f' % np.mean(mean_error))"
   ]
  },
  {
   "cell_type": "code",
   "execution_count": null,
   "metadata": {},
   "outputs": [],
   "source": [
    "train = data2[data2['CAMP'] <= 44]\n",
    "\n",
    "xtr = train.drop(['LVL'], axis=1)\n",
    "ytr = train['LVL'].values\n",
    "\n",
    "mdl = RandomForestRegressor(n_estimators=1000, n_jobs=-1, random_state=0)\n",
    "mdl.fit(xtr, ytr)\n",
    "\n",
    "p = mdl.predict(xts)\n",
    "p = np.rint(p)\n",
    "predict = pd.Series(p)\n",
    "plot_difference(predict, val['LVL'], camp)\n",
    "error = rmsle(yts, p)\n",
    "print('CAMP %d - Accuracy %.5f' % (camp, error))\n",
    "mean_error.append(error)"
   ]
  }
 ],
 "metadata": {
  "kernelspec": {
   "display_name": "Python 3",
   "language": "python",
   "name": "python3"
  },
  "language_info": {
   "codemirror_mode": {
    "name": "ipython",
    "version": 3
   },
   "file_extension": ".py",
   "mimetype": "text/x-python",
   "name": "python",
   "nbconvert_exporter": "python",
   "pygments_lexer": "ipython3",
   "version": "3.6.4"
  }
 },
 "nbformat": 4,
 "nbformat_minor": 2
}
